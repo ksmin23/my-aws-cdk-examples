{
 "cells": [
  {
   "cell_type": "markdown",
   "id": "f03b539f-6b2a-48a7-9cb2-48f9d6916c67",
   "metadata": {},
   "source": [
    "# MLflow with Amazon SageMaker\n",
    "\n",
    "This sample notebook shows how to deploy ML models registered in MLflow to Amazon SageMaker Endpoint.\n",
    "\n",
    "This notebook works well with the `Data Science 3.0` kernel on a SageMaker Studio `ml.t3.medium` instance.\n",
    "\n",
    "Here is a list of packages that are used in this notebook.\n",
    "\n",
    "```\n",
    "!pip freeze | grep -E \"mlflow|boto3|urllib3|scikit-learn|sagemaker\"\n",
    "-------------------------------------------------------------------\n",
    "boto3==1.28.63\n",
    "mlflow==2.6.0\n",
    "sagemaker==2.194.0\n",
    "sagemaker-data-insights @ https://files.pythonhosted.org/packages/70/8b/7c964508afe1dc3535422df8383c022c762c1f1254acb68b29d26b33fe30/sagemaker_data_insights-0.3.3-py3-none-any.whl\n",
    "sagemaker-datawrangler @ https://files.pythonhosted.org/packages/6a/29/6d3da0518cbe72647b164bbdee23f4df3936cf5691fff9b29dc8714115ff/sagemaker_datawrangler-0.4.3-py3-none-any.whl\n",
    "sagemaker-scikit-learn-extension==2.5.0\n",
    "sagemaker-studio-analytics-extension==0.0.20\n",
    "sagemaker-studio-sparkmagic-lib==0.1.4\n",
    "scikit-learn==1.3.1\n",
    "scikit-learn-intelex==2021.20221004.171507\n",
    "urllib3==2.0.6\n",
    "```"
   ]
  },
  {
   "cell_type": "markdown",
   "id": "85bdd5a8-d519-49ca-923a-a9083a4c2091",
   "metadata": {},
   "source": [
    "### Set up environments"
   ]
  },
  {
   "cell_type": "code",
   "execution_count": null,
   "id": "1a68f818-38e6-405c-bb87-f78c469d088b",
   "metadata": {
    "tags": []
   },
   "outputs": [
    {
     "name": "stdout",
     "output_type": "stream",
     "text": [
      "Python 3.10.6\n"
     ]
    }
   ],
   "source": [
    "!python --version"
   ]
  },
  {
   "cell_type": "code",
   "execution_count": null,
   "id": "1135e520-2fa8-4e36-b04f-7ebdff336e39",
   "metadata": {
    "tags": []
   },
   "outputs": [],
   "source": [
    "!pip install -U sagemaker mlflow==2.6.0 scikit-learn==1.3.1"
   ]
  },
  {
   "cell_type": "code",
   "execution_count": null,
   "id": "89161b31-71a6-4765-a5de-59457d73199a",
   "metadata": {
    "tags": []
   },
   "outputs": [
    {
     "name": "stdout",
     "output_type": "stream",
     "text": [
      "boto3==1.28.63\n",
      "mlflow==2.6.0\n",
      "sagemaker==2.194.0\n",
      "sagemaker-data-insights @ https://files.pythonhosted.org/packages/70/8b/7c964508afe1dc3535422df8383c022c762c1f1254acb68b29d26b33fe30/sagemaker_data_insights-0.3.3-py3-none-any.whl\n",
      "sagemaker-datawrangler @ https://files.pythonhosted.org/packages/6a/29/6d3da0518cbe72647b164bbdee23f4df3936cf5691fff9b29dc8714115ff/sagemaker_datawrangler-0.4.3-py3-none-any.whl\n",
      "sagemaker-scikit-learn-extension==2.5.0\n",
      "sagemaker-studio-analytics-extension==0.0.20\n",
      "sagemaker-studio-sparkmagic-lib==0.1.4\n",
      "scikit-learn==1.3.1\n",
      "scikit-learn-intelex==2021.20221004.171507\n",
      "urllib3==2.0.6\n"
     ]
    }
   ],
   "source": [
    "!pip freeze | grep -E \"mlflow|boto3|urllib3|scikit-learn|sagemaker\""
   ]
  },
  {
   "cell_type": "markdown",
   "id": "1231ec0f-ca32-4ffd-baec-7f650b58cade",
   "metadata": {},
   "source": [
    "### Set MLflow Tracking URI¶"
   ]
  },
  {
   "cell_type": "code",
   "execution_count": null,
   "id": "7910a92b-ade4-48c0-aebf-bb04c9fba872",
   "metadata": {
    "tags": []
   },
   "outputs": [],
   "source": [
    "MLFLOW_TRACKING_URI = \"<MLflow Tracking URI>\" # \"http://ec2-192-168-0-1.compute-1.amazonaws.com:5000\""
   ]
  },
  {
   "cell_type": "code",
   "execution_count": null,
   "id": "184bc83a-2da5-4c3c-8553-e9088d7fa76a",
   "metadata": {
    "tags": []
   },
   "outputs": [],
   "source": [
    "import mlflow\n",
    "\n",
    "from sklearn.model_selection import train_test_split\n",
    "from sklearn.datasets import load_diabetes\n",
    "\n",
    "db = load_diabetes()\n",
    "X_train, X_test, y_train, y_test = train_test_split(db.data, db.target)"
   ]
  },
  {
   "cell_type": "code",
   "execution_count": null,
   "id": "53d2961d-1346-4d99-b29d-8e8c17221f27",
   "metadata": {
    "tags": []
   },
   "outputs": [],
   "source": [
    "mlflow.set_tracking_uri(MLFLOW_TRACKING_URI)"
   ]
  },
  {
   "cell_type": "markdown",
   "id": "2abcefce-523b-4243-a73e-3910492444ad",
   "metadata": {},
   "source": [
    "### Make Predictions with the stored Model"
   ]
  },
  {
   "cell_type": "code",
   "execution_count": null,
   "id": "172fe2e0-9373-4e8f-a9f2-cf9fb44354b9",
   "metadata": {
    "tags": []
   },
   "outputs": [
    {
     "data": {
      "application/vnd.jupyter.widget-view+json": {
       "model_id": "5d84cb9e578e41da8b779c79a295f2a5",
       "version_major": 2,
       "version_minor": 0
      },
      "text/plain": [
       "Downloading artifacts:   0%|          | 0/5 [00:00<?, ?it/s]"
      ]
     },
     "metadata": {},
     "output_type": "display_data"
    },
    {
     "name": "stderr",
     "output_type": "stream",
     "text": [
      "2023/10/23 05:55:36 WARNING mlflow.pyfunc: Detected one or more mismatches between the model's dependencies and the current Python environment:\n",
      " - numpy (current: 1.26.0, required: numpy==1.26.1)\n",
      " - psutil (current: 5.9.0, required: psutil==5.9.6)\n",
      "To fix the mismatches, call `mlflow.pyfunc.get_model_dependencies(model_uri)` to fetch the model's environment and install dependencies using the resulting environment file.\n"
     ]
    },
    {
     "name": "stdout",
     "output_type": "stream",
     "text": [
      "[226.83103356 133.06536317 106.816427   144.19174514 112.33193859\n",
      " 114.6142718   85.86407134 103.4670468  223.05704266  96.29232487\n",
      " 121.35298745 136.34504633 101.63430644  91.86921416 208.98175501\n",
      " 178.23790024 258.01554956  89.88840908 176.81103395 121.29993359\n",
      " 168.24772002  88.56835009 206.2750657  127.26343568 217.93116615\n",
      "  95.81491159  77.57568969 167.80270092 121.88011086  94.94957898\n",
      "  89.65418724  80.45384154 129.82726442  87.15359573 177.82565659\n",
      " 198.47918338 174.9246423   80.11173384 263.54381454 125.29878665\n",
      " 169.55055357  86.1489538  248.45871157 173.46414303 220.23449431\n",
      " 133.14258575 121.91847456  99.38080433 106.10998897 120.91077318\n",
      " 102.93417805 146.7487253   75.22910757 162.98302521 101.01144296\n",
      " 143.08073036 204.1223701   90.4316589  136.10699756  97.11165675\n",
      "  95.03763941 100.63006363 218.92265849 232.62916403 214.99984777\n",
      " 183.42818541  97.18773832  84.13705769 127.89108644 106.59108026\n",
      " 187.48947093 246.16022797 195.75472146  92.54101476 161.66918529\n",
      "  89.86874965 201.04157517 151.34266925  79.51428413 167.88584836\n",
      " 154.47496526 101.82479878 105.15011859 206.72630117 156.78079817\n",
      "  96.07897872 284.67695329 148.95281414 190.88065464 231.62212314\n",
      " 171.56447382 115.58812964 165.68095398 172.54403737  90.70587069\n",
      " 234.20891833  88.68946307 116.54851504 205.03062229 194.61140973\n",
      " 104.73832679 197.84381501  89.75365991 262.07833511 114.74787564\n",
      " 147.1815001  120.53283412 133.98123422 167.97799283 205.53463877\n",
      " 143.82385927]\n"
     ]
    }
   ],
   "source": [
    "logged_model = 'runs:<Run ID>/model' # 'runs:/9c6bbde5cd2041cfab006f143130f797/model'\n",
    "\n",
    "# Load model as a PyFuncModel.\n",
    "loaded_model = mlflow.pyfunc.load_model(logged_model)\n",
    "predictions = loaded_model.predict(X_test)\n",
    "print(predictions)"
   ]
  },
  {
   "cell_type": "code",
   "execution_count": null,
   "id": "5295a917-5a84-43e6-b820-43956af009c7",
   "metadata": {
    "tags": []
   },
   "outputs": [
    {
     "data": {
      "text/plain": [
       "mlflow.pyfunc.loaded_model:\n",
       "  artifact_path: model\n",
       "  flavor: mlflow.sklearn\n",
       "  run_id: 9c6bbde5cd2041cfab006f143130f797"
      ]
     },
     "execution_count": null,
     "metadata": {},
     "output_type": "execute_result"
    }
   ],
   "source": [
    "loaded_model"
   ]
  },
  {
   "cell_type": "markdown",
   "id": "af973344",
   "metadata": {},
   "source": [
    "# Deployment"
   ]
  },
  {
   "cell_type": "markdown",
   "id": "44f25216",
   "metadata": {},
   "source": [
    "### (Option 1) Using `mlflow.sagemaker` library"
   ]
  },
  {
   "cell_type": "markdown",
   "id": "5214e3ed",
   "metadata": {},
   "source": [
    "##### Prequisites\n",
    "\n",
    "We need to build Docker image to be used for a base image in SageMaker Endpoint, and push it to your AWS ECR.\n",
    "\n",
    "The docker image can be build and pushed by runing following commands:\n",
    "\n",
    "```\n",
    "aws configure set region us-east-1\n",
    "mlflow sagemaker build-and-push-container \n",
    "```\n",
    "\n",
    "**WARNING**: To run `mlflow sagemaker build-and-push-container`, docker should be running on the machine.\n",
    "For more information, see [MLflow Command-Line Interface](https://www.mlflow.org/docs/latest/cli.html#mlflow-sagemaker).\n"
   ]
  },
  {
   "cell_type": "code",
   "execution_count": null,
   "id": "7f8a8736",
   "metadata": {},
   "outputs": [],
   "source": [
    "import sagemaker\n",
    "\n",
    "role = sagemaker.get_execution_role()\n",
    "sess = sagemaker.Session()\n",
    "bucket = sess.default_bucket()\n",
    "region = sess.boto_region_name"
   ]
  },
  {
   "cell_type": "code",
   "execution_count": null,
   "id": "a536bac9",
   "metadata": {},
   "outputs": [],
   "source": [
    "from mlflow.deployments import get_deploy_client\n",
    "from mlflow.sagemaker import SageMakerDeploymentClient\n",
    "import pandas as pd\n",
    "\n",
    "mlflow_client = get_deploy_client(f\"sagemaker:/{region}\")"
   ]
  },
  {
   "cell_type": "code",
   "execution_count": null,
   "id": "a31cc927",
   "metadata": {},
   "outputs": [],
   "source": [
    "instance_type = 'ml.m5.large'\n",
    "\n",
    "config = {\n",
    "    \"execution_role_arn\": role,\n",
    "    \"region_name\": region,\n",
    "    \"bucket_name\": bucket,\n",
    "    \"archive\": False,\n",
    "    \"instance_type\": instance_type,\n",
    "    \"instance_count\": 1,\n",
    "    \"synchronous\": True,\n",
    "    \"timeout_seconds\": 1800\n",
    "}\n",
    "\n",
    "config"
   ]
  },
  {
   "cell_type": "code",
   "execution_count": null,
   "id": "1c37f82c",
   "metadata": {},
   "outputs": [],
   "source": [
    "endpoint_name = \"diabets-regression\"\n",
    "\n",
    "mlflow_client.create_deployment(endpoint_name,\n",
    "                         model_uri=logged_model,\n",
    "                         flavor=\"python_function\",\n",
    "                         config=config)"
   ]
  },
  {
   "cell_type": "code",
   "execution_count": null,
   "id": "3ed6512a",
   "metadata": {},
   "outputs": [],
   "source": [
    "mlflow_client.predict(endpoint_name, X_test)"
   ]
  },
  {
   "cell_type": "markdown",
   "id": "33b255ea",
   "metadata": {},
   "source": [
    "### (Option 2) Using SageMaker Endpoint"
   ]
  },
  {
   "cell_type": "code",
   "execution_count": null,
   "id": "86e549bf",
   "metadata": {},
   "outputs": [],
   "source": [
    "import os\n",
    "\n",
    "model_data = './sk_model'\n",
    "os.makedirs(model_data, exist_ok=True)\n",
    "\n",
    "model_uri = logged_model\n",
    "model = mlflow.sklearn.load_model(model_uri, model_data)"
   ]
  },
  {
   "cell_type": "code",
   "execution_count": null,
   "id": "6677dbc3",
   "metadata": {},
   "outputs": [],
   "source": [
    "%%sh\n",
    "\n",
    "cd sk_model\n",
    "tar -czvf model.tar.gz model/"
   ]
  },
  {
   "cell_type": "code",
   "execution_count": null,
   "id": "2b35d3fa",
   "metadata": {},
   "outputs": [],
   "source": [
    "import boto3\n",
    "import sagemaker\n",
    "\n",
    "sess = sagemaker.Session()\n",
    "region = sess.boto_session.region_name\n",
    "bucket = sess.default_bucket()\n",
    "\n",
    "region, bucket"
   ]
  },
  {
   "cell_type": "code",
   "execution_count": null,
   "id": "636fa798",
   "metadata": {},
   "outputs": [],
   "source": [
    "!aws s3 cp sk_model/model.tar.gz s3://{bucket}/mlflow-sagemaker/diabetes-regression/model.tar.gz"
   ]
  },
  {
   "cell_type": "code",
   "execution_count": null,
   "id": "bf3bcb12",
   "metadata": {},
   "outputs": [],
   "source": [
    "!cp sk_model/model/requirements.txt code/"
   ]
  },
  {
   "cell_type": "code",
   "execution_count": null,
   "id": "52e126a0",
   "metadata": {},
   "outputs": [],
   "source": [
    "from sagemaker.sklearn.model import SKLearnModel\n",
    "\n",
    "FRAMEWORK_VERSION = '1.2-1'\n",
    "\n",
    "model_data = f\"s3://{bucket}/mlflow-sagemaker/diabetes-regression/model.tar.gz\"\n",
    "sklearn_model = SKLearnModel(\n",
    "    model_data=model_data,\n",
    "    role=role,\n",
    "    entry_point=\"inference.py\",\n",
    "    source_dir=\"code\",\n",
    "    framework_version=FRAMEWORK_VERSION\n",
    ")"
   ]
  },
  {
   "cell_type": "code",
   "execution_count": null,
   "id": "50f20ed1",
   "metadata": {},
   "outputs": [],
   "source": [
    "\n",
    "from sagemaker.utils import name_from_base\n",
    "\n",
    "endpoint_name = name_from_base(\"diabetes-regression\")\n",
    "\n",
    "sklearn_predictor = sklearn_model.deploy(instance_type=\"ml.m5.large\",\n",
    "                                         initial_instance_count=1,\n",
    "                                         endpoint_name=endpoint_name)"
   ]
  },
  {
   "cell_type": "code",
   "execution_count": null,
   "id": "d897953a",
   "metadata": {},
   "outputs": [],
   "source": [
    "print(f\"Serializer: {sklearn_predictor.serializer}\")\n",
    "print(f\"Deserializer: {sklearn_predictor.deserializer}\")\n",
    "print(f\"ContentType: {sklearn_predictor.content_type}\")\n",
    "print(f\"Accept: {sklearn_predictor.accept}\")"
   ]
  },
  {
   "cell_type": "code",
   "execution_count": null,
   "id": "b981b42c",
   "metadata": {},
   "outputs": [],
   "source": [
    "sklearn_predictor.predict(X_test)"
   ]
  },
  {
   "cell_type": "markdown",
   "id": "6bb78c19",
   "metadata": {},
   "source": [
    "# Clean Up"
   ]
  },
  {
   "cell_type": "markdown",
   "id": "d2bfb232",
   "metadata": {},
   "source": [
    "### (Option 1) Using `mlflow.sagemaker` library"
   ]
  },
  {
   "cell_type": "code",
   "execution_count": null,
   "id": "03378ac9",
   "metadata": {},
   "outputs": [],
   "source": [
    "endpoint_name = \"diabets-regression\"\n",
    "\n",
    "mlflow_client.delete_deployment(endpoint_name)"
   ]
  },
  {
   "cell_type": "markdown",
   "id": "07d632d5",
   "metadata": {},
   "source": [
    "### (Option 2) Using SageMaker Endpoint"
   ]
  },
  {
   "cell_type": "code",
   "execution_count": null,
   "id": "e63caa36",
   "metadata": {},
   "outputs": [],
   "source": [
    "sklearn_predictor.delete_model()\n",
    "sklearn_predictor.delete_endpoint()"
   ]
  }
 ],
 "metadata": {
  "availableInstances": [
   {
    "_defaultOrder": 0,
    "_isFastLaunch": true,
    "category": "General purpose",
    "gpuNum": 0,
    "hideHardwareSpecs": false,
    "memoryGiB": 4,
    "name": "ml.t3.medium",
    "vcpuNum": 2
   },
   {
    "_defaultOrder": 1,
    "_isFastLaunch": false,
    "category": "General purpose",
    "gpuNum": 0,
    "hideHardwareSpecs": false,
    "memoryGiB": 8,
    "name": "ml.t3.large",
    "vcpuNum": 2
   },
   {
    "_defaultOrder": 2,
    "_isFastLaunch": false,
    "category": "General purpose",
    "gpuNum": 0,
    "hideHardwareSpecs": false,
    "memoryGiB": 16,
    "name": "ml.t3.xlarge",
    "vcpuNum": 4
   },
   {
    "_defaultOrder": 3,
    "_isFastLaunch": false,
    "category": "General purpose",
    "gpuNum": 0,
    "hideHardwareSpecs": false,
    "memoryGiB": 32,
    "name": "ml.t3.2xlarge",
    "vcpuNum": 8
   },
   {
    "_defaultOrder": 4,
    "_isFastLaunch": true,
    "category": "General purpose",
    "gpuNum": 0,
    "hideHardwareSpecs": false,
    "memoryGiB": 8,
    "name": "ml.m5.large",
    "vcpuNum": 2
   },
   {
    "_defaultOrder": 5,
    "_isFastLaunch": false,
    "category": "General purpose",
    "gpuNum": 0,
    "hideHardwareSpecs": false,
    "memoryGiB": 16,
    "name": "ml.m5.xlarge",
    "vcpuNum": 4
   },
   {
    "_defaultOrder": 6,
    "_isFastLaunch": false,
    "category": "General purpose",
    "gpuNum": 0,
    "hideHardwareSpecs": false,
    "memoryGiB": 32,
    "name": "ml.m5.2xlarge",
    "vcpuNum": 8
   },
   {
    "_defaultOrder": 7,
    "_isFastLaunch": false,
    "category": "General purpose",
    "gpuNum": 0,
    "hideHardwareSpecs": false,
    "memoryGiB": 64,
    "name": "ml.m5.4xlarge",
    "vcpuNum": 16
   },
   {
    "_defaultOrder": 8,
    "_isFastLaunch": false,
    "category": "General purpose",
    "gpuNum": 0,
    "hideHardwareSpecs": false,
    "memoryGiB": 128,
    "name": "ml.m5.8xlarge",
    "vcpuNum": 32
   },
   {
    "_defaultOrder": 9,
    "_isFastLaunch": false,
    "category": "General purpose",
    "gpuNum": 0,
    "hideHardwareSpecs": false,
    "memoryGiB": 192,
    "name": "ml.m5.12xlarge",
    "vcpuNum": 48
   },
   {
    "_defaultOrder": 10,
    "_isFastLaunch": false,
    "category": "General purpose",
    "gpuNum": 0,
    "hideHardwareSpecs": false,
    "memoryGiB": 256,
    "name": "ml.m5.16xlarge",
    "vcpuNum": 64
   },
   {
    "_defaultOrder": 11,
    "_isFastLaunch": false,
    "category": "General purpose",
    "gpuNum": 0,
    "hideHardwareSpecs": false,
    "memoryGiB": 384,
    "name": "ml.m5.24xlarge",
    "vcpuNum": 96
   },
   {
    "_defaultOrder": 12,
    "_isFastLaunch": false,
    "category": "General purpose",
    "gpuNum": 0,
    "hideHardwareSpecs": false,
    "memoryGiB": 8,
    "name": "ml.m5d.large",
    "vcpuNum": 2
   },
   {
    "_defaultOrder": 13,
    "_isFastLaunch": false,
    "category": "General purpose",
    "gpuNum": 0,
    "hideHardwareSpecs": false,
    "memoryGiB": 16,
    "name": "ml.m5d.xlarge",
    "vcpuNum": 4
   },
   {
    "_defaultOrder": 14,
    "_isFastLaunch": false,
    "category": "General purpose",
    "gpuNum": 0,
    "hideHardwareSpecs": false,
    "memoryGiB": 32,
    "name": "ml.m5d.2xlarge",
    "vcpuNum": 8
   },
   {
    "_defaultOrder": 15,
    "_isFastLaunch": false,
    "category": "General purpose",
    "gpuNum": 0,
    "hideHardwareSpecs": false,
    "memoryGiB": 64,
    "name": "ml.m5d.4xlarge",
    "vcpuNum": 16
   },
   {
    "_defaultOrder": 16,
    "_isFastLaunch": false,
    "category": "General purpose",
    "gpuNum": 0,
    "hideHardwareSpecs": false,
    "memoryGiB": 128,
    "name": "ml.m5d.8xlarge",
    "vcpuNum": 32
   },
   {
    "_defaultOrder": 17,
    "_isFastLaunch": false,
    "category": "General purpose",
    "gpuNum": 0,
    "hideHardwareSpecs": false,
    "memoryGiB": 192,
    "name": "ml.m5d.12xlarge",
    "vcpuNum": 48
   },
   {
    "_defaultOrder": 18,
    "_isFastLaunch": false,
    "category": "General purpose",
    "gpuNum": 0,
    "hideHardwareSpecs": false,
    "memoryGiB": 256,
    "name": "ml.m5d.16xlarge",
    "vcpuNum": 64
   },
   {
    "_defaultOrder": 19,
    "_isFastLaunch": false,
    "category": "General purpose",
    "gpuNum": 0,
    "hideHardwareSpecs": false,
    "memoryGiB": 384,
    "name": "ml.m5d.24xlarge",
    "vcpuNum": 96
   },
   {
    "_defaultOrder": 20,
    "_isFastLaunch": false,
    "category": "General purpose",
    "gpuNum": 0,
    "hideHardwareSpecs": true,
    "memoryGiB": 0,
    "name": "ml.geospatial.interactive",
    "supportedImageNames": [
     "sagemaker-geospatial-v1-0"
    ],
    "vcpuNum": 0
   },
   {
    "_defaultOrder": 21,
    "_isFastLaunch": true,
    "category": "Compute optimized",
    "gpuNum": 0,
    "hideHardwareSpecs": false,
    "memoryGiB": 4,
    "name": "ml.c5.large",
    "vcpuNum": 2
   },
   {
    "_defaultOrder": 22,
    "_isFastLaunch": false,
    "category": "Compute optimized",
    "gpuNum": 0,
    "hideHardwareSpecs": false,
    "memoryGiB": 8,
    "name": "ml.c5.xlarge",
    "vcpuNum": 4
   },
   {
    "_defaultOrder": 23,
    "_isFastLaunch": false,
    "category": "Compute optimized",
    "gpuNum": 0,
    "hideHardwareSpecs": false,
    "memoryGiB": 16,
    "name": "ml.c5.2xlarge",
    "vcpuNum": 8
   },
   {
    "_defaultOrder": 24,
    "_isFastLaunch": false,
    "category": "Compute optimized",
    "gpuNum": 0,
    "hideHardwareSpecs": false,
    "memoryGiB": 32,
    "name": "ml.c5.4xlarge",
    "vcpuNum": 16
   },
   {
    "_defaultOrder": 25,
    "_isFastLaunch": false,
    "category": "Compute optimized",
    "gpuNum": 0,
    "hideHardwareSpecs": false,
    "memoryGiB": 72,
    "name": "ml.c5.9xlarge",
    "vcpuNum": 36
   },
   {
    "_defaultOrder": 26,
    "_isFastLaunch": false,
    "category": "Compute optimized",
    "gpuNum": 0,
    "hideHardwareSpecs": false,
    "memoryGiB": 96,
    "name": "ml.c5.12xlarge",
    "vcpuNum": 48
   },
   {
    "_defaultOrder": 27,
    "_isFastLaunch": false,
    "category": "Compute optimized",
    "gpuNum": 0,
    "hideHardwareSpecs": false,
    "memoryGiB": 144,
    "name": "ml.c5.18xlarge",
    "vcpuNum": 72
   },
   {
    "_defaultOrder": 28,
    "_isFastLaunch": false,
    "category": "Compute optimized",
    "gpuNum": 0,
    "hideHardwareSpecs": false,
    "memoryGiB": 192,
    "name": "ml.c5.24xlarge",
    "vcpuNum": 96
   },
   {
    "_defaultOrder": 29,
    "_isFastLaunch": true,
    "category": "Accelerated computing",
    "gpuNum": 1,
    "hideHardwareSpecs": false,
    "memoryGiB": 16,
    "name": "ml.g4dn.xlarge",
    "vcpuNum": 4
   },
   {
    "_defaultOrder": 30,
    "_isFastLaunch": false,
    "category": "Accelerated computing",
    "gpuNum": 1,
    "hideHardwareSpecs": false,
    "memoryGiB": 32,
    "name": "ml.g4dn.2xlarge",
    "vcpuNum": 8
   },
   {
    "_defaultOrder": 31,
    "_isFastLaunch": false,
    "category": "Accelerated computing",
    "gpuNum": 1,
    "hideHardwareSpecs": false,
    "memoryGiB": 64,
    "name": "ml.g4dn.4xlarge",
    "vcpuNum": 16
   },
   {
    "_defaultOrder": 32,
    "_isFastLaunch": false,
    "category": "Accelerated computing",
    "gpuNum": 1,
    "hideHardwareSpecs": false,
    "memoryGiB": 128,
    "name": "ml.g4dn.8xlarge",
    "vcpuNum": 32
   },
   {
    "_defaultOrder": 33,
    "_isFastLaunch": false,
    "category": "Accelerated computing",
    "gpuNum": 4,
    "hideHardwareSpecs": false,
    "memoryGiB": 192,
    "name": "ml.g4dn.12xlarge",
    "vcpuNum": 48
   },
   {
    "_defaultOrder": 34,
    "_isFastLaunch": false,
    "category": "Accelerated computing",
    "gpuNum": 1,
    "hideHardwareSpecs": false,
    "memoryGiB": 256,
    "name": "ml.g4dn.16xlarge",
    "vcpuNum": 64
   },
   {
    "_defaultOrder": 35,
    "_isFastLaunch": false,
    "category": "Accelerated computing",
    "gpuNum": 1,
    "hideHardwareSpecs": false,
    "memoryGiB": 61,
    "name": "ml.p3.2xlarge",
    "vcpuNum": 8
   },
   {
    "_defaultOrder": 36,
    "_isFastLaunch": false,
    "category": "Accelerated computing",
    "gpuNum": 4,
    "hideHardwareSpecs": false,
    "memoryGiB": 244,
    "name": "ml.p3.8xlarge",
    "vcpuNum": 32
   },
   {
    "_defaultOrder": 37,
    "_isFastLaunch": false,
    "category": "Accelerated computing",
    "gpuNum": 8,
    "hideHardwareSpecs": false,
    "memoryGiB": 488,
    "name": "ml.p3.16xlarge",
    "vcpuNum": 64
   },
   {
    "_defaultOrder": 38,
    "_isFastLaunch": false,
    "category": "Accelerated computing",
    "gpuNum": 8,
    "hideHardwareSpecs": false,
    "memoryGiB": 768,
    "name": "ml.p3dn.24xlarge",
    "vcpuNum": 96
   },
   {
    "_defaultOrder": 39,
    "_isFastLaunch": false,
    "category": "Memory Optimized",
    "gpuNum": 0,
    "hideHardwareSpecs": false,
    "memoryGiB": 16,
    "name": "ml.r5.large",
    "vcpuNum": 2
   },
   {
    "_defaultOrder": 40,
    "_isFastLaunch": false,
    "category": "Memory Optimized",
    "gpuNum": 0,
    "hideHardwareSpecs": false,
    "memoryGiB": 32,
    "name": "ml.r5.xlarge",
    "vcpuNum": 4
   },
   {
    "_defaultOrder": 41,
    "_isFastLaunch": false,
    "category": "Memory Optimized",
    "gpuNum": 0,
    "hideHardwareSpecs": false,
    "memoryGiB": 64,
    "name": "ml.r5.2xlarge",
    "vcpuNum": 8
   },
   {
    "_defaultOrder": 42,
    "_isFastLaunch": false,
    "category": "Memory Optimized",
    "gpuNum": 0,
    "hideHardwareSpecs": false,
    "memoryGiB": 128,
    "name": "ml.r5.4xlarge",
    "vcpuNum": 16
   },
   {
    "_defaultOrder": 43,
    "_isFastLaunch": false,
    "category": "Memory Optimized",
    "gpuNum": 0,
    "hideHardwareSpecs": false,
    "memoryGiB": 256,
    "name": "ml.r5.8xlarge",
    "vcpuNum": 32
   },
   {
    "_defaultOrder": 44,
    "_isFastLaunch": false,
    "category": "Memory Optimized",
    "gpuNum": 0,
    "hideHardwareSpecs": false,
    "memoryGiB": 384,
    "name": "ml.r5.12xlarge",
    "vcpuNum": 48
   },
   {
    "_defaultOrder": 45,
    "_isFastLaunch": false,
    "category": "Memory Optimized",
    "gpuNum": 0,
    "hideHardwareSpecs": false,
    "memoryGiB": 512,
    "name": "ml.r5.16xlarge",
    "vcpuNum": 64
   },
   {
    "_defaultOrder": 46,
    "_isFastLaunch": false,
    "category": "Memory Optimized",
    "gpuNum": 0,
    "hideHardwareSpecs": false,
    "memoryGiB": 768,
    "name": "ml.r5.24xlarge",
    "vcpuNum": 96
   },
   {
    "_defaultOrder": 47,
    "_isFastLaunch": false,
    "category": "Accelerated computing",
    "gpuNum": 1,
    "hideHardwareSpecs": false,
    "memoryGiB": 16,
    "name": "ml.g5.xlarge",
    "vcpuNum": 4
   },
   {
    "_defaultOrder": 48,
    "_isFastLaunch": false,
    "category": "Accelerated computing",
    "gpuNum": 1,
    "hideHardwareSpecs": false,
    "memoryGiB": 32,
    "name": "ml.g5.2xlarge",
    "vcpuNum": 8
   },
   {
    "_defaultOrder": 49,
    "_isFastLaunch": false,
    "category": "Accelerated computing",
    "gpuNum": 1,
    "hideHardwareSpecs": false,
    "memoryGiB": 64,
    "name": "ml.g5.4xlarge",
    "vcpuNum": 16
   },
   {
    "_defaultOrder": 50,
    "_isFastLaunch": false,
    "category": "Accelerated computing",
    "gpuNum": 1,
    "hideHardwareSpecs": false,
    "memoryGiB": 128,
    "name": "ml.g5.8xlarge",
    "vcpuNum": 32
   },
   {
    "_defaultOrder": 51,
    "_isFastLaunch": false,
    "category": "Accelerated computing",
    "gpuNum": 1,
    "hideHardwareSpecs": false,
    "memoryGiB": 256,
    "name": "ml.g5.16xlarge",
    "vcpuNum": 64
   },
   {
    "_defaultOrder": 52,
    "_isFastLaunch": false,
    "category": "Accelerated computing",
    "gpuNum": 4,
    "hideHardwareSpecs": false,
    "memoryGiB": 192,
    "name": "ml.g5.12xlarge",
    "vcpuNum": 48
   },
   {
    "_defaultOrder": 53,
    "_isFastLaunch": false,
    "category": "Accelerated computing",
    "gpuNum": 4,
    "hideHardwareSpecs": false,
    "memoryGiB": 384,
    "name": "ml.g5.24xlarge",
    "vcpuNum": 96
   },
   {
    "_defaultOrder": 54,
    "_isFastLaunch": false,
    "category": "Accelerated computing",
    "gpuNum": 8,
    "hideHardwareSpecs": false,
    "memoryGiB": 768,
    "name": "ml.g5.48xlarge",
    "vcpuNum": 192
   },
   {
    "_defaultOrder": 55,
    "_isFastLaunch": false,
    "category": "Accelerated computing",
    "gpuNum": 8,
    "hideHardwareSpecs": false,
    "memoryGiB": 1152,
    "name": "ml.p4d.24xlarge",
    "vcpuNum": 96
   },
   {
    "_defaultOrder": 56,
    "_isFastLaunch": false,
    "category": "Accelerated computing",
    "gpuNum": 8,
    "hideHardwareSpecs": false,
    "memoryGiB": 1152,
    "name": "ml.p4de.24xlarge",
    "vcpuNum": 96
   }
  ],
  "instance_type": "ml.t3.medium",
  "kernelspec": {
   "display_name": "Python 3 (Data Science 3.0)",
   "language": "python",
   "name": "python3__SAGEMAKER_INTERNAL__arn:aws:sagemaker:us-east-1:123456789012:image/sagemaker-data-science-310-v1"
  },
  "language_info": {
   "codemirror_mode": {
    "name": "ipython",
    "version": 3
   },
   "file_extension": ".py",
   "mimetype": "text/x-python",
   "name": "python",
   "nbconvert_exporter": "python",
   "pygments_lexer": "ipython3",
   "version": "3.10.6"
  }
 },
 "nbformat": 4,
 "nbformat_minor": 5
}

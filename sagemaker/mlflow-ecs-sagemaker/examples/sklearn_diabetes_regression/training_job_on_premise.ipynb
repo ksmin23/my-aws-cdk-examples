{
 "cells": [
  {
   "cell_type": "markdown",
   "id": "af81874c",
   "metadata": {},
   "source": [
    "# Training ML Models On-Premise\n",
    "\n",
    "Assume that you run this notebook in your local machine and send logs to MLflow server running on AWS."
   ]
  },
  {
   "cell_type": "markdown",
   "id": "b23b081a-2a65-4984-9a26-e9a802bc3a21",
   "metadata": {},
   "source": [
    "### Set up environments"
   ]
  },
  {
   "cell_type": "code",
   "execution_count": 1,
   "id": "be47ac73-1832-471e-8a96-17bad9d82606",
   "metadata": {},
   "outputs": [
    {
     "name": "stdout",
     "output_type": "stream",
     "text": [
      "Python 3.10.13\n"
     ]
    }
   ],
   "source": [
    "!python --version"
   ]
  },
  {
   "cell_type": "code",
   "execution_count": 2,
   "id": "bfa69679-a07b-42b2-a1cb-85260362190f",
   "metadata": {},
   "outputs": [
    {
     "name": "stdout",
     "output_type": "stream",
     "text": [
      "boto3==1.28.68\n",
      "mlflow==2.6.0\n",
      "scikit-learn==1.3.1\n",
      "urllib3==1.26.18\n"
     ]
    }
   ],
   "source": [
    "!pip freeze | grep -E \"mlflow|boto3|urllib3|scikit-learn\""
   ]
  },
  {
   "cell_type": "code",
   "execution_count": 3,
   "id": "20a3e824-a560-4bfa-9721-7e6a7c07ff7d",
   "metadata": {},
   "outputs": [],
   "source": [
    "# !pip install mlflow==2.6.0 \"urllib3<2.0\" boto3"
   ]
  },
  {
   "cell_type": "markdown",
   "id": "cc9ab25b-ea93-49a6-af24-70b6f88efab8",
   "metadata": {},
   "source": [
    "### Set MLflow Tracking URI"
   ]
  },
  {
   "cell_type": "code",
   "execution_count": 4,
   "id": "89598764-a90f-45a2-8fdc-9417383205b3",
   "metadata": {},
   "outputs": [],
   "source": [
    "MLFLOW_TRACKING_URI=\"http://ec2-192-168-0-1.compute-1.amazonaws.com:5000\""
   ]
  },
  {
   "cell_type": "markdown",
   "id": "a319a3db-14ac-4b98-9ad8-f9af7fd54ecf",
   "metadata": {},
   "source": [
    "### Training and Store a model in MLflow"
   ]
  },
  {
   "cell_type": "code",
   "execution_count": 5,
   "id": "1dbf2a0b-d595-4466-b3ad-85325604df98",
   "metadata": {},
   "outputs": [],
   "source": [
    "import mlflow\n",
    "from mlflow.models import infer_signature\n",
    "\n",
    "from sklearn.model_selection import train_test_split\n",
    "from sklearn.datasets import load_diabetes\n",
    "from sklearn.ensemble import RandomForestRegressor\n",
    "\n",
    "mlflow.set_tracking_uri(MLFLOW_TRACKING_URI)"
   ]
  },
  {
   "cell_type": "code",
   "execution_count": 6,
   "id": "a727916d-f536-4cc5-a8d5-b84078306813",
   "metadata": {},
   "outputs": [
    {
     "name": "stdout",
     "output_type": "stream",
     "text": [
      "[134.84771182 191.23596051 184.67631963  97.9421355  183.42818541\n",
      " 228.08878437  96.29232487 233.46635235 146.7487253  152.97977485\n",
      " 179.5038669   83.11852723 167.97799283 157.85705033 138.06926848\n",
      " 125.57536045 210.67315995 131.69258842 133.06536317  85.86407134\n",
      " 217.93116615  89.75365991 258.9458341  210.43646154 238.44002486\n",
      " 200.58148653 134.95005244 115.2921596  121.35298745 124.1596838\n",
      " 231.62212314 119.042277   140.91713431 114.68066503 211.51184488\n",
      " 213.78219189 252.70368836 255.74874982 114.61359683 187.48947093\n",
      " 227.52336764 158.64590435 110.64126289 244.59467908 133.26841168\n",
      " 164.25311912 276.32071397 165.88973568 178.88201176  98.74355029\n",
      " 176.07436755 143.08073036 105.15011859 223.03413936 109.41638828\n",
      " 177.29935774 165.8588871   95.44567852 167.57436773 150.61557528\n",
      " 155.01299663 231.32293936 101.79796256 106.48917651 240.43120135\n",
      " 243.42829515 183.28954846  95.58345431 110.12613212 179.65300583\n",
      " 129.26900326 133.35152218 239.0892909  175.16030793 251.34946107\n",
      " 195.75472146 141.83209863 162.98302521 161.73192377 153.80185124\n",
      " 158.5539969  163.05843583 122.34097972 129.0714087  152.70628673\n",
      " 147.1815001  206.72630117 159.13034067 233.21724914 124.7233283\n",
      " 234.20891833 205.03062229 144.77507026 137.81499004  95.81491159\n",
      " 123.64119235  89.79809898 208.48194642  95.03763941 111.34753742\n",
      " 198.14921446 220.19238224 173.46414303 194.9452545  133.98123422\n",
      " 137.45231836 178.21205034 196.70782556 109.9952782   89.86874965\n",
      " 162.07951513]\n",
      "Run ID: 9c6bbde5cd2041cfab006f143130f797\n"
     ]
    }
   ],
   "source": [
    "with mlflow.start_run() as run:\n",
    "    # Load the diabetes dataset.\n",
    "    db = load_diabetes()\n",
    "    X_train, X_test, y_train, y_test = train_test_split(db.data, db.target)\n",
    "\n",
    "    # Create and train models.\n",
    "    rf = RandomForestRegressor(n_estimators=100, max_depth=6, max_features=3)\n",
    "    rf.fit(X_train, y_train)\n",
    "\n",
    "    # Use the model to make predictions on the test dataset.\n",
    "    predictions = rf.predict(X_test)\n",
    "    print(predictions)\n",
    "\n",
    "    signature = infer_signature(X_test, predictions)\n",
    "    mlflow.sklearn.log_model(rf, \"model\", signature=signature)\n",
    "\n",
    "    print(\"Run ID: {}\".format(run.info.run_id))"
   ]
  },
  {
   "cell_type": "markdown",
   "id": "f6c62161-1097-4895-babe-9c62710e655e",
   "metadata": {},
   "source": [
    "### Make Predictions with the stored Model"
   ]
  },
  {
   "cell_type": "code",
   "execution_count": 7,
   "id": "056b91e9-d731-4b30-88a0-8b43cf8a8daa",
   "metadata": {},
   "outputs": [
    {
     "name": "stdout",
     "output_type": "stream",
     "text": [
      "[134.84771182 191.23596051 184.67631963  97.9421355  183.42818541\n",
      " 228.08878437  96.29232487 233.46635235 146.7487253  152.97977485\n",
      " 179.5038669   83.11852723 167.97799283 157.85705033 138.06926848\n",
      " 125.57536045 210.67315995 131.69258842 133.06536317  85.86407134\n",
      " 217.93116615  89.75365991 258.9458341  210.43646154 238.44002486\n",
      " 200.58148653 134.95005244 115.2921596  121.35298745 124.1596838\n",
      " 231.62212314 119.042277   140.91713431 114.68066503 211.51184488\n",
      " 213.78219189 252.70368836 255.74874982 114.61359683 187.48947093\n",
      " 227.52336764 158.64590435 110.64126289 244.59467908 133.26841168\n",
      " 164.25311912 276.32071397 165.88973568 178.88201176  98.74355029\n",
      " 176.07436755 143.08073036 105.15011859 223.03413936 109.41638828\n",
      " 177.29935774 165.8588871   95.44567852 167.57436773 150.61557528\n",
      " 155.01299663 231.32293936 101.79796256 106.48917651 240.43120135\n",
      " 243.42829515 183.28954846  95.58345431 110.12613212 179.65300583\n",
      " 129.26900326 133.35152218 239.0892909  175.16030793 251.34946107\n",
      " 195.75472146 141.83209863 162.98302521 161.73192377 153.80185124\n",
      " 158.5539969  163.05843583 122.34097972 129.0714087  152.70628673\n",
      " 147.1815001  206.72630117 159.13034067 233.21724914 124.7233283\n",
      " 234.20891833 205.03062229 144.77507026 137.81499004  95.81491159\n",
      " 123.64119235  89.79809898 208.48194642  95.03763941 111.34753742\n",
      " 198.14921446 220.19238224 173.46414303 194.9452545  133.98123422\n",
      " 137.45231836 178.21205034 196.70782556 109.9952782   89.86874965\n",
      " 162.07951513]\n"
     ]
    }
   ],
   "source": [
    "import mlflow\n",
    "\n",
    "logged_model = 'runs:/9c6bbde5cd2041cfab006f143130f797/model'\n",
    "\n",
    "# Load model as a PyFuncModel.\n",
    "loaded_model = mlflow.pyfunc.load_model(logged_model)\n",
    "predictions = loaded_model.predict(X_test)\n",
    "print(predictions)"
   ]
  },
  {
   "cell_type": "code",
   "execution_count": null,
   "id": "80efccad-1e44-450d-bfc6-1c95d5ee54e7",
   "metadata": {},
   "outputs": [],
   "source": []
  }
 ],
 "metadata": {
  "kernelspec": {
   "display_name": "Python 3 (ipykernel)",
   "language": "python",
   "name": "python3"
  },
  "language_info": {
   "codemirror_mode": {
    "name": "ipython",
    "version": 3
   },
   "file_extension": ".py",
   "mimetype": "text/x-python",
   "name": "python",
   "nbconvert_exporter": "python",
   "pygments_lexer": "ipython3",
   "version": "3.10.13"
  }
 },
 "nbformat": 4,
 "nbformat_minor": 5
}

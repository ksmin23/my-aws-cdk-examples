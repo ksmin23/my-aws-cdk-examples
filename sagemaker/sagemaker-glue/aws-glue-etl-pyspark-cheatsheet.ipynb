{
 "cells": [
  {
   "cell_type": "code",
   "execution_count": 2,
   "id": "2d991311-4bee-4b60-94aa-846a8fa4933c",
   "metadata": {
    "tags": [],
    "vscode": {
     "languageId": "python_glue_session"
    }
   },
   "outputs": [
    {
     "name": "stdout",
     "output_type": "stream",
     "text": [
      "Welcome to the Glue Interactive Sessions Kernel\n",
      "For more information on available magic commands, please type %help in any new cell.\n",
      "\n",
      "Please view our Getting Started page to access the most up-to-date information on the Interactive Sessions kernel: https://docs.aws.amazon.com/glue/latest/dg/interactive-sessions.html\n",
      "Installed kernel version: 0.38.1 \n"
     ]
    },
    {
     "data": {
      "text/markdown": [
       "\n",
       "# Available Magic Commands\n",
       "\n",
       "## Sessions Magic\n",
       "\n",
       "----\n",
       "    %help                             Return a list of descriptions and input types for all magic commands. \n",
       "    %profile            String        Specify a profile in your aws configuration to use as the credentials provider.\n",
       "    %region             String        Specify the AWS region in which to initialize a session. \n",
       "                                      Default from ~/.aws/config on Linux or macOS, \n",
       "                                      or C:\\Users\\ USERNAME \\.aws\\config\" on Windows.\n",
       "    %idle_timeout       Int           The number of minutes of inactivity after which a session will timeout. \n",
       "                                      Default: 2880 minutes (48 hours).\n",
       "    %session_id_prefix  String        Define a String that will precede all session IDs in the format \n",
       "                                      [session_id_prefix]-[session_id]. If a session ID is not provided,\n",
       "                                      a random UUID will be generated.\n",
       "    %status                           Returns the status of the current Glue session including its duration, \n",
       "                                      configuration and executing user / role.\n",
       "    %session_id                       Returns the session ID for the running session. \n",
       "    %list_sessions                    Lists all currently running sessions by ID.\n",
       "    %stop_session                     Stops the current session.\n",
       "    %glue_version       String        The version of Glue to be used by this session. \n",
       "                                      Currently, the only valid options are 2.0, 3.0 and 4.0. \n",
       "                                      Default: 2.0.\n",
       "----\n",
       "\n",
       "## Selecting Job Types\n",
       "\n",
       "----\n",
       "    %streaming          String        Sets the session type to Glue Streaming.\n",
       "    %etl                String        Sets the session type to Glue ETL.\n",
       "    %glue_ray           String        Sets the session type to Glue Ray.\n",
       "----\n",
       "\n",
       "## Glue Config Magic \n",
       "*(common across all job types)*\n",
       "\n",
       "----\n",
       "\n",
       "    %%configure         Dictionary    A json-formatted dictionary consisting of all configuration parameters for \n",
       "                                      a session. Each parameter can be specified here or through individual magics.\n",
       "    %iam_role           String        Specify an IAM role ARN to execute your session with.\n",
       "                                      Default from ~/.aws/config on Linux or macOS, \n",
       "                                      or C:\\Users\\%USERNAME%\\.aws\\config` on Windows.\n",
       "    %number_of_workers  int           The number of workers of a defined worker_type that are allocated \n",
       "                                      when a session runs.\n",
       "                                      Default: 5.\n",
       "    %additional_python_modules  List  Comma separated list of additional Python modules to include in your cluster \n",
       "                                      (can be from Pypi or S3).\n",
       "    %%tags        Dictionary          Specify a json-formatted dictionary consisting of tags to use in the session.\n",
       "----\n",
       "\n",
       "                                      \n",
       "## Magic for Spark Jobs (ETL & Streaming)\n",
       "\n",
       "----\n",
       "    %worker_type        String        Set the type of instances the session will use as workers. \n",
       "                                      ETL and Streaming support G.1X, G.2X, G.4X and G.8X. \n",
       "                                      Default: G.1X.\n",
       "    %connections        List          Specify a comma separated list of connections to use in the session.\n",
       "    %extra_py_files     List          Comma separated list of additional Python files From S3.\n",
       "    %extra_jars         List          Comma separated list of additional Jars to include in the cluster.\n",
       "    %spark_conf         String        Specify custom spark configurations for your session. \n",
       "                                      E.g. %spark_conf spark.serializer=org.apache.spark.serializer.KryoSerializer\n",
       "----\n",
       "                                      \n",
       "## Magic for Ray Job\n",
       "\n",
       "----\n",
       "    %min_workers        Int           The minimum number of workers that are allocated to a Ray job. \n",
       "                                      Default: 1.\n",
       "    %object_memory_head Int           The percentage of free memory on the instance head node after a warm start. \n",
       "                                      Minimum: 0. Maximum: 100.\n",
       "    %object_memory_worker Int         The percentage of free memory on the instance worker nodes after a warm start. \n",
       "                                      Minimum: 0. Maximum: 100.\n",
       "----\n",
       "\n",
       "## Action Magic\n",
       "\n",
       "----\n",
       "\n",
       "    %%sql               String        Run SQL code. All lines after the initial %%sql magic will be passed\n",
       "                                      as part of the SQL code.  \n",
       "----\n",
       "\n"
      ]
     },
     "metadata": {},
     "output_type": "display_data"
    }
   ],
   "source": [
    "%help"
   ]
  },
  {
   "cell_type": "code",
   "execution_count": 1,
   "id": "f1b498e0-5f7d-46a0-b859-44c17bba85de",
   "metadata": {
    "tags": [],
    "vscode": {
     "languageId": "python_glue_session"
    }
   },
   "outputs": [
    {
     "name": "stdout",
     "output_type": "stream",
     "text": [
      "Authenticating with environment variables and user-defined glue_role_arn: arn:aws:iam::819320734790:role/AmazonSageMakerExecutionRole-06146\n",
      "Trying to create a Glue session for the kernel.\n",
      "Worker Type: G.1X\n",
      "Number of Workers: 5\n",
      "Session ID: 8f8620a4-2a25-4f1a-a71c-11c7e398a189\n",
      "Job Type: glueetl\n",
      "Applying the following default arguments:\n",
      "--glue_kernel_version 0.38.1\n",
      "--enable-glue-datacatalog true\n",
      "Waiting for session 8f8620a4-2a25-4f1a-a71c-11c7e398a189 to get into ready status...\n",
      "Session 8f8620a4-2a25-4f1a-a71c-11c7e398a189 has been created.\n",
      "\n"
     ]
    }
   ],
   "source": [
    "import warnings\n",
    "\n",
    "warnings.filterwarnings(action='ignore')"
   ]
  },
  {
   "cell_type": "markdown",
   "id": "21d84dc3-da2b-47a0-b126-5d21d5bcba6a",
   "metadata": {},
   "source": [
    "### Importing GlueContext"
   ]
  },
  {
   "cell_type": "code",
   "execution_count": 2,
   "id": "94350c43-a316-40e7-a3cc-440f2bd7909e",
   "metadata": {
    "tags": [],
    "vscode": {
     "languageId": "python_glue_session"
    }
   },
   "outputs": [
    {
     "name": "stdout",
     "output_type": "stream",
     "text": [
      "\n"
     ]
    }
   ],
   "source": [
    "import sys\n",
    "from pyspark.context import SparkContext\n",
    "from awsglue.context import GlueContext\n",
    "from awsglue.transforms import *\n",
    "from awsglue.dynamicframe import DynamicFrame\n",
    "from pyspark.sql.types import *\n",
    "from pyspark.sql import Row"
   ]
  },
  {
   "cell_type": "code",
   "execution_count": 3,
   "id": "2e28eee5-3c01-41f0-97ec-90891b18c72d",
   "metadata": {
    "tags": [],
    "vscode": {
     "languageId": "python_glue_session"
    }
   },
   "outputs": [
    {
     "name": "stdout",
     "output_type": "stream",
     "text": [
      "\n"
     ]
    }
   ],
   "source": [
    "glueContext = GlueContext(SparkContext.getOrCreate())"
   ]
  },
  {
   "cell_type": "markdown",
   "id": "139af979-ec3a-4c1b-b2c0-3aae0b5402ea",
   "metadata": {},
   "source": [
    "## Dataset 1"
   ]
  },
  {
   "cell_type": "code",
   "execution_count": 4,
   "id": "8f9c4908-f159-48e3-86da-26b1313f4fed",
   "metadata": {
    "tags": [],
    "vscode": {
     "languageId": "python_glue_session"
    }
   },
   "outputs": [
    {
     "name": "stdout",
     "output_type": "stream",
     "text": [
      "\n"
     ]
    }
   ],
   "source": [
    "order_list = [\n",
    "               ['1005', '623', 'YES', '1418901234', '75091'],\n",
    "               ['1006', '547', 'NO',  '1418901256', '75034'],\n",
    "               ['1007', '823', 'YES', '1418901300', '75023'],\n",
    "               ['1008', '912', 'NO',  '1418901400', '82091'],\n",
    "               ['1009', '321', 'YES', '1418902000', '90093']\n",
    "             ]"
   ]
  },
  {
   "cell_type": "code",
   "execution_count": 5,
   "id": "241fa85a-acee-4878-bd15-8518d71e6160",
   "metadata": {
    "tags": [],
    "vscode": {
     "languageId": "python_glue_session"
    }
   },
   "outputs": [
    {
     "name": "stdout",
     "output_type": "stream",
     "text": [
      "\n"
     ]
    }
   ],
   "source": [
    "# Define schema for the order_list\n",
    "order_schema = StructType([  \n",
    "                      StructField(\"order_id\", StringType()),\n",
    "                      StructField(\"customer_id\", StringType()),\n",
    "                      StructField(\"essential_item\", StringType()),\n",
    "                      StructField(\"timestamp\", StringType()),\n",
    "                      StructField(\"zipcode\", StringType())\n",
    "                    ])"
   ]
  },
  {
   "cell_type": "code",
   "execution_count": 6,
   "id": "25133642-77d9-427a-aec0-8a6f97aa76a7",
   "metadata": {
    "tags": [],
    "vscode": {
     "languageId": "python_glue_session"
    }
   },
   "outputs": [
    {
     "name": "stdout",
     "output_type": "stream",
     "text": [
      "\n"
     ]
    }
   ],
   "source": [
    "# Create a Spark Dataframe from the python list and the schema\n",
    "df_orders = spark.createDataFrame(order_list, schema=order_schema)"
   ]
  },
  {
   "cell_type": "code",
   "execution_count": 7,
   "id": "077956af-5fd0-43ff-937a-2c6ecf25d470",
   "metadata": {
    "tags": [],
    "vscode": {
     "languageId": "python_glue_session"
    }
   },
   "outputs": [
    {
     "name": "stdout",
     "output_type": "stream",
     "text": [
      "+--------+-----------+--------------+----------+-------+\n",
      "|order_id|customer_id|essential_item| timestamp|zipcode|\n",
      "+--------+-----------+--------------+----------+-------+\n",
      "|    1005|        623|           YES|1418901234|  75091|\n",
      "|    1006|        547|            NO|1418901256|  75034|\n",
      "|    1007|        823|           YES|1418901300|  75023|\n",
      "|    1008|        912|            NO|1418901400|  82091|\n",
      "|    1009|        321|           YES|1418902000|  90093|\n",
      "+--------+-----------+--------------+----------+-------+\n"
     ]
    }
   ],
   "source": [
    "df_orders.show()"
   ]
  },
  {
   "cell_type": "code",
   "execution_count": 8,
   "id": "409826bd-b5d8-4667-90ee-ad43ef7b23eb",
   "metadata": {
    "tags": [],
    "vscode": {
     "languageId": "python_glue_session"
    }
   },
   "outputs": [
    {
     "name": "stdout",
     "output_type": "stream",
     "text": [
      "root\n",
      " |-- order_id: string (nullable = true)\n",
      " |-- customer_id: string (nullable = true)\n",
      " |-- essential_item: string (nullable = true)\n",
      " |-- timestamp: string (nullable = true)\n",
      " |-- zipcode: string (nullable = true)\n"
     ]
    }
   ],
   "source": [
    "df_orders.printSchema()"
   ]
  },
  {
   "cell_type": "markdown",
   "id": "3b89533a-47e9-4c1a-b250-15e8cfcc8a29",
   "metadata": {},
   "source": [
    "### [DynamicFrame](https://docs.aws.amazon.com/glue/latest/dg/aws-glue-api-crawler-pyspark-extensions-dynamic-frame.html)\n",
    "\n",
    "A `DynamicFrame` is similar to a Spark `DataFrame`, except that each record is self-describing, so no schema is required initially.<br/>\n",
    "Instead, AWS Glue computes a schema on-the-fly when required, and explicitly encodes schema inconsistencies using a choice (or union) type. You can resolve these inconsistencies to make your datasets compatible with data stores that require a fixed schema."
   ]
  },
  {
   "cell_type": "code",
   "execution_count": 9,
   "id": "9cff2dbd-b7b8-4579-b5d1-eaf2009a70ab",
   "metadata": {
    "tags": [],
    "vscode": {
     "languageId": "python_glue_session"
    }
   },
   "outputs": [
    {
     "name": "stdout",
     "output_type": "stream",
     "text": [
      "\n"
     ]
    }
   ],
   "source": [
    "dyf_orders = DynamicFrame.fromDF(df_orders, glueContext, \"dyf\")"
   ]
  },
  {
   "cell_type": "code",
   "execution_count": 10,
   "id": "8b845aa8-0a9a-47e1-baef-5214cc852258",
   "metadata": {
    "tags": [],
    "vscode": {
     "languageId": "python_glue_session"
    }
   },
   "outputs": [
    {
     "name": "stdout",
     "output_type": "stream",
     "text": [
      "root\n",
      "|-- order_id: string\n",
      "|-- customer_id: string\n",
      "|-- essential_item: string\n",
      "|-- timestamp: string\n",
      "|-- zipcode: string\n"
     ]
    }
   ],
   "source": [
    "dyf_orders.printSchema()"
   ]
  },
  {
   "cell_type": "markdown",
   "id": "2d794fda-3843-4f36-b156-2b9b869e213c",
   "metadata": {},
   "source": [
    "## AWS Glue transofrm functions"
   ]
  },
  {
   "cell_type": "markdown",
   "id": "a5963b79-1aa3-439d-b5c0-0e20d4ed8530",
   "metadata": {},
   "source": [
    "### [ApplyMapping](https://docs.aws.amazon.com/glue/latest/dg/aws-glue-api-crawler-pyspark-transforms-ApplyMapping.html)\n",
    "\n",
    "Applies a mapping in a `DynamicFrame`."
   ]
  },
  {
   "cell_type": "code",
   "execution_count": 11,
   "id": "edc12df5-930f-40a9-9dd3-459471b908d3",
   "metadata": {
    "tags": [],
    "vscode": {
     "languageId": "python_glue_session"
    }
   },
   "outputs": [
    {
     "name": "stdout",
     "output_type": "stream",
     "text": [
      "\n"
     ]
    }
   ],
   "source": [
    "dyf_applyMapping = ApplyMapping.apply(frame=dyf_orders, mappings=[\n",
    "    (\"order_id\", \"String\", \"order_id\", \"Long\"),\n",
    "    (\"customer_id\", \"String\", \"customer_id\", \"String\"),\n",
    "    (\"essential_item\", \"String\", \"essential_item\", \"String\"),\n",
    "    (\"timestamp\", \"String\", \"timestamp\", \"Long\"),\n",
    "    (\"zipcode\", \"String\", \"zip\", \"Long\")\n",
    "])"
   ]
  },
  {
   "cell_type": "markdown",
   "id": "662bc933-6d62-4cd0-b9c6-aaecb5126363",
   "metadata": {},
   "source": [
    "ℹ️ **[describeArgs(cls)](https://docs.aws.amazon.com/glue/latest/dg/aws-glue-api-crawler-pyspark-transforms-GlueTransform.html#aws-glue-api-crawler-pyspark-transforms-GlueTransform-describeArgs)**\n",
    "\n",
    "`describeArgs` function of `GlueTransform` class returns a list of dictionaries, each each corresponding to a named argument."
   ]
  },
  {
   "cell_type": "code",
   "execution_count": 12,
   "id": "8c557233-8ccc-4e32-842e-63bc939173a9",
   "metadata": {
    "tags": [],
    "vscode": {
     "languageId": "python_glue_session"
    }
   },
   "outputs": [
    {
     "name": "stdout",
     "output_type": "stream",
     "text": [
      "[{'name': 'frame', 'type': 'DynamicFrame', 'description': 'DynamicFrame to transform', 'optional': False, 'defaultValue': None}, {'name': 'mappings', 'type': 'DynamicFrame', 'description': 'List of mapping tuples (source col, source type, target col, target type)', 'optional': False, 'defaultValue': None}, {'name': 'case_sensitive', 'type': 'Boolean', 'description': 'Whether ', 'optional': True, 'defaultValue': 'False'}, {'name': 'transformation_ctx', 'type': 'String', 'description': 'A unique string that is used to identify stats / state information', 'optional': True, 'defaultValue': ''}, {'name': 'info', 'type': 'String', 'description': 'Any string to be associated with errors in the transformation', 'optional': True, 'defaultValue': '\"\"'}, {'name': 'stageThreshold', 'type': 'Integer', 'description': 'Max number of errors in the transformation until processing will error out', 'optional': True, 'defaultValue': '0'}, {'name': 'totalThreshold', 'type': 'Integer', 'description': 'Max number of errors total until processing will error out.', 'optional': True, 'defaultValue': '0'}]\n"
     ]
    }
   ],
   "source": [
    "ApplyMapping.describeArgs()"
   ]
  },
  {
   "cell_type": "code",
   "execution_count": 13,
   "id": "ecf38c4a-73f4-481e-bd0d-640eba0773de",
   "metadata": {
    "tags": [],
    "vscode": {
     "languageId": "python_glue_session"
    }
   },
   "outputs": [
    {
     "name": "stdout",
     "output_type": "stream",
     "text": [
      "[{'defaultValue': None,\n",
      "  'description': 'DynamicFrame to transform',\n",
      "  'name': 'frame',\n",
      "  'optional': False,\n",
      "  'type': 'DynamicFrame'},\n",
      " {'defaultValue': None,\n",
      "  'description': 'List of mapping tuples (source col, source type, target col, '\n",
      "                 'target type)',\n",
      "  'name': 'mappings',\n",
      "  'optional': False,\n",
      "  'type': 'DynamicFrame'},\n",
      " {'defaultValue': 'False',\n",
      "  'description': 'Whether ',\n",
      "  'name': 'case_sensitive',\n",
      "  'optional': True,\n",
      "  'type': 'Boolean'},\n",
      " {'defaultValue': '',\n",
      "  'description': 'A unique string that is used to identify stats / state '\n",
      "                 'information',\n",
      "  'name': 'transformation_ctx',\n",
      "  'optional': True,\n",
      "  'type': 'String'},\n",
      " {'defaultValue': '\"\"',\n",
      "  'description': 'Any string to be associated with errors in the '\n",
      "                 'transformation',\n",
      "  'name': 'info',\n",
      "  'optional': True,\n",
      "  'type': 'String'},\n",
      " {'defaultValue': '0',\n",
      "  'description': 'Max number of errors in the transformation until processing '\n",
      "                 'will error out',\n",
      "  'name': 'stageThreshold',\n",
      "  'optional': True,\n",
      "  'type': 'Integer'},\n",
      " {'defaultValue': '0',\n",
      "  'description': 'Max number of errors total until processing will error out.',\n",
      "  'name': 'totalThreshold',\n",
      "  'optional': True,\n",
      "  'type': 'Integer'}]\n"
     ]
    }
   ],
   "source": [
    "import pprint\n",
    "\n",
    "pprint.pprint(ApplyMapping.describeArgs())"
   ]
  },
  {
   "cell_type": "code",
   "execution_count": 14,
   "id": "2a778ed8-7c76-4c48-9fa7-671130ed762a",
   "metadata": {
    "tags": [],
    "vscode": {
     "languageId": "python_glue_session"
    }
   },
   "outputs": [
    {
     "name": "stdout",
     "output_type": "stream",
     "text": [
      "root\n",
      "|-- order_id: long\n",
      "|-- customer_id: string\n",
      "|-- essential_item: string\n",
      "|-- timestamp: long\n",
      "|-- zip: long\n"
     ]
    }
   ],
   "source": [
    "dyf_applyMapping.printSchema()"
   ]
  },
  {
   "cell_type": "markdown",
   "id": "38c16aba-164c-4552-861a-b315554afcf1",
   "metadata": {},
   "source": [
    "### [Filter](https://docs.aws.amazon.com/glue/latest/dg/aws-glue-api-crawler-pyspark-transforms-filter.html)\n",
    "\n",
    "Builds a new `DynamicFrame` that contains records from the input `DynamicFrame` that satisfy a specified predicate function.\n",
    "\n",
    "We now want to prioritize our order delivery for essential items. We can achieve that using the Filter function:"
   ]
  },
  {
   "cell_type": "code",
   "execution_count": 15,
   "id": "89e33c63-a99f-4537-9115-dc1ee45a8426",
   "metadata": {
    "tags": [],
    "vscode": {
     "languageId": "python_glue_session"
    }
   },
   "outputs": [
    {
     "name": "stdout",
     "output_type": "stream",
     "text": [
      "\n"
     ]
    }
   ],
   "source": [
    "dyf_filter = Filter.apply(frame=dyf_applyMapping, f=lambda x: x[\"essential_item\"] == 'YES')"
   ]
  },
  {
   "cell_type": "code",
   "execution_count": 16,
   "id": "77f1ccd0-ac8d-4585-ae09-b49e3ccc99b4",
   "metadata": {
    "tags": [],
    "vscode": {
     "languageId": "python_glue_session"
    }
   },
   "outputs": [
    {
     "name": "stdout",
     "output_type": "stream",
     "text": [
      "+--------------+-----------+-----+----------+--------+\n",
      "|essential_item|customer_id|  zip| timestamp|order_id|\n",
      "+--------------+-----------+-----+----------+--------+\n",
      "|           YES|        623|75091|1418901234|    1005|\n",
      "|           YES|        823|75023|1418901300|    1007|\n",
      "|           YES|        321|90093|1418902000|    1009|\n",
      "+--------------+-----------+-----+----------+--------+\n"
     ]
    }
   ],
   "source": [
    "dyf_filter.toDF().show()"
   ]
  },
  {
   "cell_type": "markdown",
   "id": "7623a16c-c692-4930-bf9f-39dba4ab919e",
   "metadata": {},
   "source": [
    "### [Map](https://docs.aws.amazon.com/glue/latest/dg/aws-glue-api-crawler-pyspark-transforms-map.html)\n",
    "\n",
    "Builds a new `DynamicFrame` by applying a function to all records in the input `DynamicFrame`.\n",
    "\n",
    "Map allows us to apply a transformation to each record of a Dynamic Frame. For our case, we want to target a certain zip code for next day air shipping. We implement a simple \"`next_day_air`\" function and pass it to the Dynamic Frame:"
   ]
  },
  {
   "cell_type": "code",
   "execution_count": 17,
   "id": "e2ebb6ed-5b08-443c-af97-b36537b8b8b3",
   "metadata": {
    "tags": [],
    "vscode": {
     "languageId": "python_glue_session"
    }
   },
   "outputs": [
    {
     "name": "stdout",
     "output_type": "stream",
     "text": [
      "\n"
     ]
    }
   ],
   "source": [
    "# This function takes in a dynamic frame record and checks if zipcode # 75034 is present in it. If present, it adds another column \n",
    "# “next_day_air” with value as True\n",
    "def next_day_air(rec):\n",
    "    if rec[\"zip\"] == 75034:\n",
    "        rec[\"next_day_air\"] = True\n",
    "    return rec"
   ]
  },
  {
   "cell_type": "code",
   "execution_count": 18,
   "id": "5cfd8b55-e1aa-4981-b013-e7914c079cf4",
   "metadata": {
    "tags": [],
    "vscode": {
     "languageId": "python_glue_session"
    }
   },
   "outputs": [
    {
     "name": "stdout",
     "output_type": "stream",
     "text": [
      "\n"
     ]
    }
   ],
   "source": [
    "mapped_dyF = Map.apply(frame=dyf_applyMapping, f=next_day_air)"
   ]
  },
  {
   "cell_type": "code",
   "execution_count": 19,
   "id": "b3bbd5f0-5524-4c53-b6c4-187b0d340c7b",
   "metadata": {
    "tags": [],
    "vscode": {
     "languageId": "python_glue_session"
    }
   },
   "outputs": [
    {
     "name": "stdout",
     "output_type": "stream",
     "text": [
      "+--------------+-----------+------------+-----+----------+--------+\n",
      "|essential_item|customer_id|next_day_air|  zip| timestamp|order_id|\n",
      "+--------------+-----------+------------+-----+----------+--------+\n",
      "|           YES|        623|        null|75091|1418901234|    1005|\n",
      "|            NO|        547|        true|75034|1418901256|    1006|\n",
      "|           YES|        823|        null|75023|1418901300|    1007|\n",
      "|            NO|        912|        null|82091|1418901400|    1008|\n",
      "|           YES|        321|        null|90093|1418902000|    1009|\n",
      "+--------------+-----------+------------+-----+----------+--------+\n"
     ]
    }
   ],
   "source": [
    "mapped_dyF.toDF().show()"
   ]
  },
  {
   "cell_type": "markdown",
   "id": "dd636007-2002-4e7d-b329-b4617fb1701a",
   "metadata": {},
   "source": [
    "## Dataset 2"
   ]
  },
  {
   "cell_type": "code",
   "execution_count": 20,
   "id": "547e1ed9-c341-4255-90a2-d82be17013eb",
   "metadata": {
    "tags": [],
    "vscode": {
     "languageId": "python_glue_session"
    }
   },
   "outputs": [
    {
     "name": "stdout",
     "output_type": "stream",
     "text": [
      "\n"
     ]
    }
   ],
   "source": [
    "jsonStr1 = u'{ \"zip\": 75091, \"customers\": [{ \"id\": 623, \"address\": \"108 Park Street, TX\"}, { \"id\": 231, \"address\": \"763 Marsh Ln, TX\" }]}'\n",
    "jsonStr2 = u'{ \"zip\": 82091, \"customers\": [{ \"id\": 201, \"address\": \"771 Peek Pkwy, GA\" }]}'\n",
    "jsonStr3 = u'{ \"zip\": 75023, \"customers\": [{ \"id\": 343, \"address\": \"66 P Street, NY\" }]}'\n",
    "jsonStr4 = u'{ \"zip\": 90093, \"customers\": [{ \"id\": 932, \"address\": \"708 Fed Ln, CA\"}, { \"id\": 102, \"address\": \"807 Deccan Dr, CA\" }]}'"
   ]
  },
  {
   "cell_type": "code",
   "execution_count": 21,
   "id": "fe938dc5-61f4-4631-8491-8068fe35e0f3",
   "metadata": {
    "tags": [],
    "vscode": {
     "languageId": "python_glue_session"
    }
   },
   "outputs": [
    {
     "name": "stdout",
     "output_type": "stream",
     "text": [
      "\n"
     ]
    }
   ],
   "source": [
    "df_row = spark.createDataFrame([\n",
    "    Row(json=jsonStr1),\n",
    "    Row(json=jsonStr2),\n",
    "    Row(json=jsonStr4)\n",
    "])"
   ]
  },
  {
   "cell_type": "code",
   "execution_count": 22,
   "id": "c2af6f57-e0d3-4ae1-b1ba-d74a3f42c2b5",
   "metadata": {
    "tags": [],
    "vscode": {
     "languageId": "python_glue_session"
    }
   },
   "outputs": [
    {
     "name": "stdout",
     "output_type": "stream",
     "text": [
      "\n"
     ]
    }
   ],
   "source": [
    "df_json = spark.read.json(df_row.rdd.map(lambda r: r.json))"
   ]
  },
  {
   "cell_type": "code",
   "execution_count": 23,
   "id": "42a2a1fa-4a06-436f-bd80-c3e1a0ab0b52",
   "metadata": {
    "tags": [],
    "vscode": {
     "languageId": "python_glue_session"
    }
   },
   "outputs": [
    {
     "name": "stdout",
     "output_type": "stream",
     "text": [
      "+--------------------+-----+\n",
      "|           customers|  zip|\n",
      "+--------------------+-----+\n",
      "|[{108 Park Street...|75091|\n",
      "|[{771 Peek Pkwy, ...|82091|\n",
      "|[{708 Fed Ln, CA,...|90093|\n",
      "+--------------------+-----+\n"
     ]
    }
   ],
   "source": [
    "df_json.show()"
   ]
  },
  {
   "cell_type": "code",
   "execution_count": 24,
   "id": "b0a732b8-71ae-46ec-8b2f-818a53a0e7c1",
   "metadata": {
    "tags": [],
    "vscode": {
     "languageId": "python_glue_session"
    }
   },
   "outputs": [
    {
     "name": "stdout",
     "output_type": "stream",
     "text": [
      "root\n",
      " |-- customers: array (nullable = true)\n",
      " |    |-- element: struct (containsNull = true)\n",
      " |    |    |-- address: string (nullable = true)\n",
      " |    |    |-- id: long (nullable = true)\n",
      " |-- zip: long (nullable = true)\n"
     ]
    }
   ],
   "source": [
    "df_json.printSchema()"
   ]
  },
  {
   "cell_type": "code",
   "execution_count": 25,
   "id": "91844ed9-f467-43af-8049-99c1059e46ba",
   "metadata": {
    "tags": [],
    "vscode": {
     "languageId": "python_glue_session"
    }
   },
   "outputs": [
    {
     "name": "stdout",
     "output_type": "stream",
     "text": [
      "\n"
     ]
    }
   ],
   "source": [
    "dyf_json = DynamicFrame.fromDF(df_json, glueContext, \"dyf_json\")"
   ]
  },
  {
   "cell_type": "code",
   "execution_count": 26,
   "id": "f6a995e2-14ea-4e6a-89e8-a6620b128b91",
   "metadata": {
    "tags": [],
    "vscode": {
     "languageId": "python_glue_session"
    }
   },
   "outputs": [
    {
     "name": "stdout",
     "output_type": "stream",
     "text": [
      "root\n",
      "|-- customers: array\n",
      "|    |-- element: struct\n",
      "|    |    |-- address: string\n",
      "|    |    |-- id: long\n",
      "|-- zip: long\n"
     ]
    }
   ],
   "source": [
    "dyf_json.printSchema()"
   ]
  },
  {
   "cell_type": "markdown",
   "id": "7d8a99a8-690a-4ed6-b8ed-297dee292457",
   "metadata": {},
   "source": [
    "### [SelectFields](https://docs.aws.amazon.com/glue/latest/dg/aws-glue-api-crawler-pyspark-transforms-SelectFields.html)\n",
    "\n",
    "The `SelectFields` class creates a new `DynamicFrame` from an existing `DynamicFrame`, and keeps only the fields that you specify. `SelectFields` provides similar functionality to a SQL `SELECT` statement.\n",
    "\n",
    "To join with the order list, we don’t need all the columns, so we use the `SelectFields` function to shortlist the columns we need. In our use case, we need the zip code column, but we can add more columns as the argument paths accepts a list:"
   ]
  },
  {
   "cell_type": "code",
   "execution_count": 27,
   "id": "6fbe988f-fe83-4475-8ede-29842154c78e",
   "metadata": {
    "tags": [],
    "vscode": {
     "languageId": "python_glue_session"
    }
   },
   "outputs": [
    {
     "name": "stdout",
     "output_type": "stream",
     "text": [
      "\n"
     ]
    }
   ],
   "source": [
    "dyf_selectFields = SelectFields.apply(frame=dyf_filter, paths=['zip'])"
   ]
  },
  {
   "cell_type": "code",
   "execution_count": 28,
   "id": "5c574940-0ff0-464d-af42-0bbe4933df33",
   "metadata": {
    "tags": [],
    "vscode": {
     "languageId": "python_glue_session"
    }
   },
   "outputs": [
    {
     "name": "stdout",
     "output_type": "stream",
     "text": [
      "+-----+\n",
      "|  zip|\n",
      "+-----+\n",
      "|75091|\n",
      "|75023|\n",
      "|90093|\n",
      "+-----+\n"
     ]
    }
   ],
   "source": [
    "dyf_selectFields.toDF().show()"
   ]
  },
  {
   "cell_type": "markdown",
   "id": "373bdc77-bf8a-4ea9-b5cb-be1eb832591b",
   "metadata": {},
   "source": [
    "### [Join](https://docs.aws.amazon.com/glue/latest/dg/aws-glue-api-crawler-pyspark-transforms-join.html)\n",
    "\n",
    "Performs an equality join on two `DynamicFrames`.\n",
    "\n",
    "The `Join` function is straightforward and manages duplicate columns. We had two columns named `zip` from both datasets. "
   ]
  },
  {
   "cell_type": "code",
   "execution_count": 29,
   "id": "7470a8b8-4718-40bf-94d1-bd7e276640a6",
   "metadata": {
    "tags": [],
    "vscode": {
     "languageId": "python_glue_session"
    }
   },
   "outputs": [
    {
     "name": "stdout",
     "output_type": "stream",
     "text": [
      "\n"
     ]
    }
   ],
   "source": [
    "dyf_join = Join.apply(dyf_json, dyf_selectFields, 'zip', 'zip')"
   ]
  },
  {
   "cell_type": "markdown",
   "id": "e512590d-845f-46e4-ab2f-8ead576d51a4",
   "metadata": {},
   "source": [
    "ℹ️ AWS Glue added a period (`.`) in one of the duplicate column names to avoid errors"
   ]
  },
  {
   "cell_type": "code",
   "execution_count": 30,
   "id": "cddc27b3-2b52-480c-9a2d-a0a545e0e5ce",
   "metadata": {
    "tags": [],
    "vscode": {
     "languageId": "python_glue_session"
    }
   },
   "outputs": [
    {
     "name": "stdout",
     "output_type": "stream",
     "text": [
      "+--------------------+-----+-----+\n",
      "|           customers| .zip|  zip|\n",
      "+--------------------+-----+-----+\n",
      "|[{708 Fed Ln, CA,...|90093|90093|\n",
      "|[{108 Park Street...|75091|75091|\n",
      "+--------------------+-----+-----+\n"
     ]
    }
   ],
   "source": [
    "dyf_join.toDF().show()"
   ]
  },
  {
   "cell_type": "markdown",
   "id": "ce89f499-8922-4e36-a979-16541cbbc858",
   "metadata": {},
   "source": [
    "### [Dropfields](https://docs.aws.amazon.com/glue/latest/dg/aws-glue-api-crawler-pyspark-transforms-DropFields.html)\n",
    "\n",
    "Drops fields within a `DynamicFrame`.\n",
    "\n",
    "Because we don’t need two columns with the same name, we can use DropFields to drop one or multiple columns all at once. The backticks (<code>`</code>) around .zip inside the function call are needed because the column name contains a period (.):"
   ]
  },
  {
   "cell_type": "code",
   "execution_count": 31,
   "id": "2e4fd2e3-afde-4a9b-99c5-8b15dc2e2faf",
   "metadata": {
    "tags": [],
    "vscode": {
     "languageId": "python_glue_session"
    }
   },
   "outputs": [
    {
     "name": "stdout",
     "output_type": "stream",
     "text": [
      "\n"
     ]
    }
   ],
   "source": [
    "dyf_dropfields = DropFields.apply(frame=dyf_join, paths=\"`.zip`\")"
   ]
  },
  {
   "cell_type": "code",
   "execution_count": 32,
   "id": "690cf4fb-0155-457e-b248-03d423cde050",
   "metadata": {
    "tags": [],
    "vscode": {
     "languageId": "python_glue_session"
    }
   },
   "outputs": [
    {
     "name": "stdout",
     "output_type": "stream",
     "text": [
      "+--------------------+-----+\n",
      "|           customers|  zip|\n",
      "+--------------------+-----+\n",
      "|[{708 Fed Ln, CA,...|90093|\n",
      "|[{108 Park Street...|75091|\n",
      "+--------------------+-----+\n"
     ]
    }
   ],
   "source": [
    "dyf_dropfields.toDF().show()"
   ]
  },
  {
   "cell_type": "markdown",
   "id": "2a0d2d86-79ab-4ce7-9132-084213679fe5",
   "metadata": {},
   "source": [
    "### [Relationalize](https://docs.aws.amazon.com/glue/latest/dg/aws-glue-api-crawler-pyspark-transforms-Relationalize.html)\n",
    "\n",
    "Flattens a nested schema in a `DynamicFrame` and pivots out array columns from the flattened frame.\n",
    "\n",
    "The `Relationalize` function can flatten nested structures and create multiple dynamic frames. Our customer column from the previous operation is a nested structure, and `Relationalize` can convert it into multiple flattened DynamicFrames:"
   ]
  },
  {
   "cell_type": "code",
   "execution_count": 33,
   "id": "2e9d8634-9779-4fe7-a4b6-3c21ec99b78a",
   "metadata": {
    "tags": [],
    "vscode": {
     "languageId": "python_glue_session"
    }
   },
   "outputs": [
    {
     "name": "stdout",
     "output_type": "stream",
     "text": [
      "\n"
     ]
    }
   ],
   "source": [
    "temp_dir = 's3://sagemaker-us-east-1-123456789012/glue/temp/'\n",
    "dyf_relationalize = dyf_dropfields.relationalize(\"root\", temp_dir)"
   ]
  },
  {
   "cell_type": "code",
   "execution_count": 34,
   "id": "9349db77-6b6c-4070-bf3c-264db7e5c2b2",
   "metadata": {
    "tags": [],
    "vscode": {
     "languageId": "python_glue_session"
    }
   },
   "outputs": [
    {
     "name": "stdout",
     "output_type": "stream",
     "text": [
      "[{'defaultValue': None,\n",
      "  'description': 'The DynamicFrame to relationalize',\n",
      "  'name': 'frame',\n",
      "  'optional': False,\n",
      "  'type': 'DynamicFrame'},\n",
      " {'defaultValue': None,\n",
      "  'description': 'path to store partitions of pivoted tables in csv format',\n",
      "  'name': 'staging_path',\n",
      "  'optional': True,\n",
      "  'type': 'String'},\n",
      " {'defaultValue': 'roottable',\n",
      "  'description': 'Name of the root table',\n",
      "  'name': 'name',\n",
      "  'optional': True,\n",
      "  'type': 'String'},\n",
      " {'defaultValue': '{}',\n",
      "  'description': 'dict of optional parameters for relationalize',\n",
      "  'name': 'options',\n",
      "  'optional': True,\n",
      "  'type': 'Dictionary'},\n",
      " {'defaultValue': '',\n",
      "  'description': 'A unique string that is used to identify stats / state '\n",
      "                 'information',\n",
      "  'name': 'transformation_ctx',\n",
      "  'optional': True,\n",
      "  'type': 'String'},\n",
      " {'defaultValue': '\"\"',\n",
      "  'description': 'Any string to be associated with errors in the '\n",
      "                 'transformation',\n",
      "  'name': 'info',\n",
      "  'optional': True,\n",
      "  'type': 'String'},\n",
      " {'defaultValue': '0',\n",
      "  'description': 'Max number of errors in the transformation until processing '\n",
      "                 'will error out',\n",
      "  'name': 'stageThreshold',\n",
      "  'optional': True,\n",
      "  'type': 'Integer'},\n",
      " {'defaultValue': '0',\n",
      "  'description': 'Max number of errors total until processing will error out.',\n",
      "  'name': 'totalThreshold',\n",
      "  'optional': True,\n",
      "  'type': 'Integer'}]\n"
     ]
    }
   ],
   "source": [
    "import pprint\n",
    "\n",
    "pprint.pprint(Relationalize.describeArgs())"
   ]
  },
  {
   "cell_type": "code",
   "execution_count": 35,
   "id": "e356047f-d3bd-4d26-8e7d-394121257a29",
   "metadata": {
    "tags": [],
    "vscode": {
     "languageId": "python_glue_session"
    }
   },
   "outputs": [
    {
     "name": "stdout",
     "output_type": "stream",
     "text": [
      "dict_keys(['root', 'root_customers'])\n"
     ]
    }
   ],
   "source": [
    "dyf_relationalize.keys()"
   ]
  },
  {
   "cell_type": "markdown",
   "id": "c0a4f380-ce67-4fd6-ae20-7b0bb00baa8b",
   "metadata": {},
   "source": [
    "### [SelectFromCollection](https://docs.aws.amazon.com/glue/latest/dg/aws-glue-api-crawler-pyspark-transforms-SelectFromCollection.html)\n",
    "\n",
    "Selects one `DynamicFrame` in a `DynamicFrameCollection`.\n",
    "\n",
    "The `SelectFromCollection` function allows us to retrieve the specific DynamicFrame from a collection of DynamicFrames. For this use case, we retrieve both DynamicFrames from the previous operation using this function."
   ]
  },
  {
   "cell_type": "code",
   "execution_count": 36,
   "id": "d02e669c-ebea-4dcb-9cf3-8b5e9fa4f6e7",
   "metadata": {
    "tags": [],
    "vscode": {
     "languageId": "python_glue_session"
    }
   },
   "outputs": [
    {
     "name": "stdout",
     "output_type": "stream",
     "text": [
      "\n"
     ]
    }
   ],
   "source": [
    "dyf_selectFromCollection = SelectFromCollection.apply(dyf_relationalize, \"root\")"
   ]
  },
  {
   "cell_type": "code",
   "execution_count": 37,
   "id": "d0cdf795-436c-42b2-ade9-7c4d8460cc3f",
   "metadata": {
    "tags": [],
    "vscode": {
     "languageId": "python_glue_session"
    }
   },
   "outputs": [
    {
     "name": "stdout",
     "output_type": "stream",
     "text": [
      "+---------+-----+\n",
      "|customers|  zip|\n",
      "+---------+-----+\n",
      "|        1|90093|\n",
      "|        2|75091|\n",
      "+---------+-----+\n"
     ]
    }
   ],
   "source": [
    "dyf_selectFromCollection.toDF().show()"
   ]
  },
  {
   "cell_type": "code",
   "execution_count": 38,
   "id": "5fec6f43-0726-4f75-a22f-0adc84476ff6",
   "metadata": {
    "tags": [],
    "vscode": {
     "languageId": "python_glue_session"
    }
   },
   "outputs": [
    {
     "name": "stdout",
     "output_type": "stream",
     "text": [
      "\n"
     ]
    }
   ],
   "source": [
    "dyf_selectFromCollection = SelectFromCollection.apply(dyf_relationalize, \"root_customers\")"
   ]
  },
  {
   "cell_type": "markdown",
   "id": "14f430d7-4fc8-499e-9550-9e5a4882c42c",
   "metadata": {},
   "source": [
    "### [RenameField](https://docs.aws.amazon.com/glue/latest/dg/aws-glue-api-crawler-pyspark-transforms-RenameField.html)\n",
    "\n",
    "Renames a node within a `DynamicFrame`."
   ]
  },
  {
   "cell_type": "code",
   "execution_count": 39,
   "id": "10bccd54-b057-46ea-94ae-74dfbdc11b8a",
   "metadata": {
    "tags": [],
    "vscode": {
     "languageId": "python_glue_session"
    }
   },
   "outputs": [
    {
     "name": "stdout",
     "output_type": "stream",
     "text": [
      "\n"
     ]
    }
   ],
   "source": [
    "dyf_renameField_1 = RenameField.apply(dyf_selectFromCollection, \"`customers.val.address`\", \"address\")"
   ]
  },
  {
   "cell_type": "code",
   "execution_count": 40,
   "id": "aa655094-7acb-40d6-85d3-b547552db4b3",
   "metadata": {
    "tags": [],
    "vscode": {
     "languageId": "python_glue_session"
    }
   },
   "outputs": [
    {
     "name": "stdout",
     "output_type": "stream",
     "text": [
      "\n"
     ]
    }
   ],
   "source": [
    "dyf_renameField_2 = RenameField.apply(dyf_renameField_1, \"`customers.val.id`\", \"cust_id\")"
   ]
  },
  {
   "cell_type": "code",
   "execution_count": 41,
   "id": "ab493b3f-2722-4777-8376-cb3fb4d9bdfb",
   "metadata": {
    "tags": [],
    "vscode": {
     "languageId": "python_glue_session"
    }
   },
   "outputs": [
    {
     "name": "stdout",
     "output_type": "stream",
     "text": [
      "+---+-----+-------------------+-------+\n",
      "| id|index|            address|cust_id|\n",
      "+---+-----+-------------------+-------+\n",
      "|  2|    0|108 Park Street, TX|    623|\n",
      "|  2|    1|   763 Marsh Ln, TX|    231|\n",
      "|  1|    0|     708 Fed Ln, CA|    932|\n",
      "|  1|    1|  807 Deccan Dr, CA|    102|\n",
      "+---+-----+-------------------+-------+\n"
     ]
    }
   ],
   "source": [
    "dyf_renameField_2.toDF().show()"
   ]
  },
  {
   "cell_type": "code",
   "execution_count": 42,
   "id": "c21d62fb-54b7-49f0-a534-524bdfd4ecd9",
   "metadata": {
    "tags": [],
    "vscode": {
     "languageId": "python_glue_session"
    }
   },
   "outputs": [
    {
     "name": "stdout",
     "output_type": "stream",
     "text": [
      "\n"
     ]
    }
   ],
   "source": [
    "dyf_dropfields_rf = DropFields.apply(\n",
    "  frame = dyf_renameField_2,\n",
    "  paths = [\"index\", \"id\"]\n",
    ")"
   ]
  },
  {
   "cell_type": "code",
   "execution_count": 43,
   "id": "950836dc-bc34-4fec-a382-a2fa2820ac73",
   "metadata": {
    "tags": [],
    "vscode": {
     "languageId": "python_glue_session"
    }
   },
   "outputs": [
    {
     "name": "stdout",
     "output_type": "stream",
     "text": [
      "+-------------------+-------+\n",
      "|            address|cust_id|\n",
      "+-------------------+-------+\n",
      "|108 Park Street, TX|    623|\n",
      "|   763 Marsh Ln, TX|    231|\n",
      "|     708 Fed Ln, CA|    932|\n",
      "|  807 Deccan Dr, CA|    102|\n",
      "+-------------------+-------+\n"
     ]
    }
   ],
   "source": [
    "dyf_dropfields_rf.toDF().show()"
   ]
  },
  {
   "cell_type": "markdown",
   "id": "453643d8-8ab0-4620-b01a-2d1a00fafcd5",
   "metadata": {},
   "source": [
    "### [ResolveChoice](https://docs.aws.amazon.com/glue/latest/dg/aws-glue-api-crawler-pyspark-transforms-ResolveChoice.html)\n",
    "\n",
    "Resolves a choice type within a `DynamicFrame`.\n",
    "\n",
    "`ResloveChoice` can gracefully handle column type ambiguities."
   ]
  },
  {
   "cell_type": "code",
   "execution_count": 44,
   "id": "32fb90bc-15ab-4f07-a2f7-ff6e5797e962",
   "metadata": {
    "tags": [],
    "vscode": {
     "languageId": "python_glue_session"
    }
   },
   "outputs": [
    {
     "name": "stdout",
     "output_type": "stream",
     "text": [
      "[{'defaultValue': None,\n",
      "  'description': 'DynamicFrame to transform',\n",
      "  'name': 'frame',\n",
      "  'optional': False,\n",
      "  'type': 'DynamicFrame'},\n",
      " {'defaultValue': None,\n",
      "  'description': 'List of specs (path, action)',\n",
      "  'name': 'specs',\n",
      "  'optional': True,\n",
      "  'type': 'List'},\n",
      " {'defaultValue': '',\n",
      "  'description': 'resolve choice option',\n",
      "  'name': 'choice',\n",
      "  'optional': True,\n",
      "  'type': 'String'},\n",
      " {'defaultValue': '',\n",
      "  'description': 'Glue catalog database name, required for MATCH_CATALOG '\n",
      "                 'choice',\n",
      "  'name': 'database',\n",
      "  'optional': True,\n",
      "  'type': 'String'},\n",
      " {'defaultValue': '',\n",
      "  'description': 'Glue catalog table name, required for MATCH_CATALOG choice',\n",
      "  'name': 'table_name',\n",
      "  'optional': True,\n",
      "  'type': 'String'},\n",
      " {'defaultValue': '',\n",
      "  'description': 'A unique string that is used to identify stats / state '\n",
      "                 'information',\n",
      "  'name': 'transformation_ctx',\n",
      "  'optional': True,\n",
      "  'type': 'String'},\n",
      " {'defaultValue': '\"\"',\n",
      "  'description': 'Any string to be associated with errors in the '\n",
      "                 'transformation',\n",
      "  'name': 'info',\n",
      "  'optional': True,\n",
      "  'type': 'String'},\n",
      " {'defaultValue': '0',\n",
      "  'description': 'Max number of errors in the transformation until processing '\n",
      "                 'will error out',\n",
      "  'name': 'stageThreshold',\n",
      "  'optional': True,\n",
      "  'type': 'Integer'},\n",
      " {'defaultValue': '0',\n",
      "  'description': 'Max number of errors total until processing will error out.',\n",
      "  'name': 'totalThreshold',\n",
      "  'optional': True,\n",
      "  'type': 'Integer'},\n",
      " {'defaultValue': 'accountId',\n",
      "  'description': 'Catalog id for match_catalog id.',\n",
      "  'name': 'catalog_id',\n",
      "  'optional': True,\n",
      "  'type': 'String'}]\n"
     ]
    }
   ],
   "source": [
    "import pprint\n",
    "\n",
    "pprint.pprint(ResolveChoice.describeArgs())"
   ]
  },
  {
   "cell_type": "code",
   "execution_count": 45,
   "id": "17b72531-6f2a-4ea1-937c-2aab40dcc22c",
   "metadata": {
    "tags": [],
    "vscode": {
     "languageId": "python_glue_session"
    }
   },
   "outputs": [
    {
     "name": "stdout",
     "output_type": "stream",
     "text": [
      "\n"
     ]
    }
   ],
   "source": [
    "dyf_resolveChoice = dyf_dropfields_rf.resolveChoice(specs = [('cust_id','cast:String')])"
   ]
  },
  {
   "cell_type": "code",
   "execution_count": 46,
   "id": "43d12a2a-2bf6-4802-be9e-04e24bbc1e1c",
   "metadata": {
    "tags": [],
    "vscode": {
     "languageId": "python_glue_session"
    }
   },
   "outputs": [
    {
     "name": "stdout",
     "output_type": "stream",
     "text": [
      "root\n",
      "|-- address: string\n",
      "|-- cust_id: string\n"
     ]
    }
   ],
   "source": [
    "dyf_resolveChoice.printSchema()"
   ]
  },
  {
   "cell_type": "code",
   "execution_count": 47,
   "id": "7688cac9-838a-498c-82ba-387d049c1245",
   "metadata": {
    "tags": [],
    "vscode": {
     "languageId": "python_glue_session"
    }
   },
   "outputs": [
    {
     "name": "stdout",
     "output_type": "stream",
     "text": [
      "\n"
     ]
    }
   ],
   "source": [
    "warehouse_inventory_list = [\n",
    "              ['TX_WAREHOUSE', '{\\\n",
    "                          \"strawberry\":\"220\",\\\n",
    "                          \"pineapple\":\"560\",\\\n",
    "                          \"mango\":\"350\",\\\n",
    "                          \"pears\":null}'\n",
    "              ],\n",
    "              ['CA_WAREHOUSE', '{\\\n",
    "                         \"strawberry\":\"34\",\\\n",
    "                         \"pineapple\":\"123\",\\\n",
    "                         \"mango\":\"42\",\\\n",
    "                         \"pears\":null}'\n",
    "              ],\n",
    "              ['CO_WAREHOUSE', '{\\\n",
    "                         \"strawberry\":\"340\",\\\n",
    "                         \"pineapple\":\"180\",\\\n",
    "                         \"mango\":\"2\",\\\n",
    "                         \"pears\":null}'\n",
    "              ]\n",
    "            ]"
   ]
  },
  {
   "cell_type": "code",
   "execution_count": 48,
   "id": "6fa5edcd-a4a4-4b6c-8712-ff74daf645ca",
   "metadata": {
    "tags": [],
    "vscode": {
     "languageId": "python_glue_session"
    }
   },
   "outputs": [
    {
     "name": "stdout",
     "output_type": "stream",
     "text": [
      "\n"
     ]
    }
   ],
   "source": [
    "warehouse_schema = StructType([StructField(\"warehouse_loc\", StringType()),\n",
    "                              StructField(\"data\", StringType())])"
   ]
  },
  {
   "cell_type": "code",
   "execution_count": 49,
   "id": "deec3a48-ca3a-4bd9-afe9-5c88e50f6f4c",
   "metadata": {
    "tags": [],
    "vscode": {
     "languageId": "python_glue_session"
    }
   },
   "outputs": [
    {
     "name": "stdout",
     "output_type": "stream",
     "text": [
      "\n"
     ]
    }
   ],
   "source": [
    "df_warehouse = spark.createDataFrame(warehouse_inventory_list, schema=warehouse_schema)"
   ]
  },
  {
   "cell_type": "code",
   "execution_count": 50,
   "id": "b5a0ed19-380a-476c-9c11-cfb1a3b945e9",
   "metadata": {
    "tags": [],
    "vscode": {
     "languageId": "python_glue_session"
    }
   },
   "outputs": [
    {
     "name": "stdout",
     "output_type": "stream",
     "text": [
      "\n"
     ]
    }
   ],
   "source": [
    "dyf_warehouse = DynamicFrame.fromDF(df_warehouse, glueContext, \"dyf_warehouse\")"
   ]
  },
  {
   "cell_type": "code",
   "execution_count": 51,
   "id": "4337b9d6-da1d-4abc-aa24-06d380a80527",
   "metadata": {
    "tags": [],
    "vscode": {
     "languageId": "python_glue_session"
    }
   },
   "outputs": [
    {
     "name": "stdout",
     "output_type": "stream",
     "text": [
      "root\n",
      "|-- warehouse_loc: string\n",
      "|-- data: string\n"
     ]
    }
   ],
   "source": [
    "dyf_warehouse.printSchema()"
   ]
  },
  {
   "cell_type": "markdown",
   "id": "ad12d5c5-88a3-4156-b668-f77ad638f043",
   "metadata": {},
   "source": [
    "### [Unbox](https://docs.aws.amazon.com/glue/latest/dg/aws-glue-api-crawler-pyspark-transforms-Unbox.html)\n",
    "\n",
    "Unboxes (reformats) a string field in a `DynamicFrame`.\n",
    "\n",
    "We use `Unbox` to extract JSON from `String` format for the new data."
   ]
  },
  {
   "cell_type": "code",
   "execution_count": 52,
   "id": "27757602-7a8d-4744-8c32-24b0c2815e95",
   "metadata": {
    "tags": [],
    "vscode": {
     "languageId": "python_glue_session"
    }
   },
   "outputs": [
    {
     "name": "stdout",
     "output_type": "stream",
     "text": [
      "[{'defaultValue': None,\n",
      "  'description': 'The DynamicFrame on which to call Unbox',\n",
      "  'name': 'frame',\n",
      "  'optional': False,\n",
      "  'type': 'DynamicFrame'},\n",
      " {'defaultValue': None,\n",
      "  'description': 'full path to the StringNode to unbox',\n",
      "  'name': 'path',\n",
      "  'optional': False,\n",
      "  'type': 'String'},\n",
      " {'defaultValue': None,\n",
      "  'description': 'file format -- \"avro\" or \"json\" only',\n",
      "  'name': 'format',\n",
      "  'optional': False,\n",
      "  'type': 'String'},\n",
      " {'defaultValue': '',\n",
      "  'description': 'A unique string that is used to identify stats / state '\n",
      "                 'information',\n",
      "  'name': 'transformation_ctx',\n",
      "  'optional': True,\n",
      "  'type': 'String'},\n",
      " {'defaultValue': '\"\"',\n",
      "  'description': 'Any string to be associated with errors in the '\n",
      "                 'transformation',\n",
      "  'name': 'info',\n",
      "  'optional': True,\n",
      "  'type': 'String'},\n",
      " {'defaultValue': '0',\n",
      "  'description': 'Max number of errors in the transformation until processing '\n",
      "                 'will error out',\n",
      "  'name': 'stageThreshold',\n",
      "  'optional': True,\n",
      "  'type': 'Integer'},\n",
      " {'defaultValue': '0',\n",
      "  'description': 'Max number of errors total until processing will error out.',\n",
      "  'name': 'totalThreshold',\n",
      "  'optional': True,\n",
      "  'type': 'Integer'},\n",
      " {'defaultValue': 'None, but individual readers may have their own defaults',\n",
      "  'description': 'separator token',\n",
      "  'name': 'separator',\n",
      "  'optional': True,\n",
      "  'type': 'String'},\n",
      " {'defaultValue': 'None, but individual readers may have their own defaults',\n",
      "  'description': 'escape token',\n",
      "  'name': 'escaper',\n",
      "  'optional': True,\n",
      "  'type': 'String'},\n",
      " {'defaultValue': 'None, but individual readers may have their own defaults',\n",
      "  'description': 'whether to skip the first line of data',\n",
      "  'name': 'skipFirst',\n",
      "  'optional': True,\n",
      "  'type': 'Boolean'},\n",
      " {'defaultValue': 'None, but individual readers may have their own defaults',\n",
      "  'description': 'schema for data to unbox, should always be created by using '\n",
      "                 'StructType.json()',\n",
      "  'name': 'withSchema',\n",
      "  'optional': True,\n",
      "  'type': 'String'},\n",
      " {'defaultValue': 'None, but individual readers may have their own defaults',\n",
      "  'description': 'whether data being unpacked includes a header',\n",
      "  'name': 'withHeader',\n",
      "  'optional': True,\n",
      "  'type': 'Boolean'}]\n"
     ]
    }
   ],
   "source": [
    "import pprint\n",
    "\n",
    "pprint.pprint(Unbox.describeArgs())"
   ]
  },
  {
   "cell_type": "code",
   "execution_count": 53,
   "id": "dfe1877f-6abc-44f0-a4bd-e9324c794f39",
   "metadata": {
    "tags": [],
    "vscode": {
     "languageId": "python_glue_session"
    }
   },
   "outputs": [
    {
     "name": "stdout",
     "output_type": "stream",
     "text": [
      "\n"
     ]
    }
   ],
   "source": [
    "dyf_unbox = Unbox.apply(frame=dyf_warehouse, path=\"data\", format=\"json\")"
   ]
  },
  {
   "cell_type": "code",
   "execution_count": 54,
   "id": "aa4813e8-7133-45fe-b4ec-06c1217fd2a1",
   "metadata": {
    "tags": [],
    "vscode": {
     "languageId": "python_glue_session"
    }
   },
   "outputs": [
    {
     "name": "stdout",
     "output_type": "stream",
     "text": [
      "root\n",
      "|-- warehouse_loc: string\n",
      "|-- data: struct\n",
      "|    |-- strawberry: string\n",
      "|    |-- pineapple: string\n",
      "|    |-- mango: string\n",
      "|    |-- pears: null\n"
     ]
    }
   ],
   "source": [
    "dyf_unbox.printSchema()"
   ]
  },
  {
   "cell_type": "code",
   "execution_count": 55,
   "id": "ea11869a-d9f3-4cb3-a1cc-7c8b0ef43e2f",
   "metadata": {
    "tags": [],
    "vscode": {
     "languageId": "python_glue_session"
    }
   },
   "outputs": [
    {
     "name": "stdout",
     "output_type": "stream",
     "text": [
      "+-------------+--------------------+\n",
      "|warehouse_loc|                data|\n",
      "+-------------+--------------------+\n",
      "| TX_WAREHOUSE|{220, 560, 350, n...|\n",
      "| CA_WAREHOUSE| {34, 123, 42, null}|\n",
      "| CO_WAREHOUSE| {340, 180, 2, null}|\n",
      "+-------------+--------------------+\n"
     ]
    }
   ],
   "source": [
    "dyf_unbox.toDF().show()"
   ]
  },
  {
   "cell_type": "markdown",
   "id": "0a0f18c2-14de-4ee7-b531-bbafb3734cce",
   "metadata": {},
   "source": [
    "### [UnnestFrame](https://docs.aws.amazon.com/glue/latest/dg/aws-glue-api-crawler-pyspark-transforms-UnnestFrame.html)\n",
    "\n",
    "Unnests a `DynamicFrame`, flattens nested objects to top-level elements, and generates join keys for array objects.\n",
    "\n",
    "`Unnest` allows us to flatten a single DynamicFrame to a more relational table format. We apply `Unnest` to the nested structure from the previous operation and flatten it:"
   ]
  },
  {
   "cell_type": "code",
   "execution_count": 56,
   "id": "fd5cf333-5095-4da8-9a4d-d3d22a35046c",
   "metadata": {
    "tags": [],
    "vscode": {
     "languageId": "python_glue_session"
    }
   },
   "outputs": [
    {
     "name": "stdout",
     "output_type": "stream",
     "text": [
      "\n"
     ]
    }
   ],
   "source": [
    "dyf_unnest = UnnestFrame.apply(frame=dyf_unbox)"
   ]
  },
  {
   "cell_type": "code",
   "execution_count": 57,
   "id": "b09b369c-ff2c-47c9-ba27-e53099590e30",
   "metadata": {
    "tags": [],
    "vscode": {
     "languageId": "python_glue_session"
    }
   },
   "outputs": [
    {
     "name": "stdout",
     "output_type": "stream",
     "text": [
      "root\n",
      " |-- warehouse_loc: string (nullable = true)\n",
      " |-- data.strawberry: string (nullable = true)\n",
      " |-- data.pineapple: string (nullable = true)\n",
      " |-- data.mango: string (nullable = true)\n",
      " |-- data.pears: null (nullable = true)\n"
     ]
    }
   ],
   "source": [
    "dyf_unnest.toDF().printSchema()"
   ]
  },
  {
   "cell_type": "code",
   "execution_count": 58,
   "id": "3e3544f7-7f54-4ffc-8d05-a7c3fa2608c7",
   "metadata": {
    "tags": [],
    "vscode": {
     "languageId": "python_glue_session"
    }
   },
   "outputs": [
    {
     "name": "stdout",
     "output_type": "stream",
     "text": [
      "+-------------+---------------+--------------+----------+----------+\n",
      "|warehouse_loc|data.strawberry|data.pineapple|data.mango|data.pears|\n",
      "+-------------+---------------+--------------+----------+----------+\n",
      "| TX_WAREHOUSE|            220|           560|       350|      null|\n",
      "| CA_WAREHOUSE|             34|           123|        42|      null|\n",
      "| CO_WAREHOUSE|            340|           180|         2|      null|\n",
      "+-------------+---------------+--------------+----------+----------+\n"
     ]
    }
   ],
   "source": [
    "dyf_unnest.toDF().show()"
   ]
  },
  {
   "cell_type": "markdown",
   "id": "f1b73a13-2814-4ea6-a9e1-45017859d441",
   "metadata": {},
   "source": [
    "### [DropNullFields](https://docs.aws.amazon.com/glue/latest/dg/aws-glue-api-crawler-pyspark-transforms-DropNullFields.html)\n",
    "\n",
    "Drops all null fields in a `DynamicFrame` whose type is `NullType`. These are fields with missing or null values in every record in the `DynamicFrame` dataset.\n",
    "\n",
    "The `DropNullFields` function makes it easy to drop columns with all null values. Our warehouse data indicated that it was out of pears and can be dropped. We apply the `DropNullFields` function on the DynamicFrame, which automatically identifies the columns with null values and drops them:"
   ]
  },
  {
   "cell_type": "code",
   "execution_count": 59,
   "id": "5bf43baf-365c-422b-b316-613eeed46ef8",
   "metadata": {
    "tags": [],
    "vscode": {
     "languageId": "python_glue_session"
    }
   },
   "outputs": [
    {
     "name": "stdout",
     "output_type": "stream",
     "text": [
      "null_fields ['`data.pears`']\n"
     ]
    }
   ],
   "source": [
    "dyf_dropNullfields = DropNullFields.apply(frame=dyf_unnest)"
   ]
  },
  {
   "cell_type": "code",
   "execution_count": 60,
   "id": "a5413df6-35fe-45e1-abf0-01f7896c0082",
   "metadata": {
    "tags": [],
    "vscode": {
     "languageId": "python_glue_session"
    }
   },
   "outputs": [
    {
     "name": "stdout",
     "output_type": "stream",
     "text": [
      "+-------------+---------------+--------------+----------+\n",
      "|warehouse_loc|data.strawberry|data.pineapple|data.mango|\n",
      "+-------------+---------------+--------------+----------+\n",
      "| TX_WAREHOUSE|            220|           560|       350|\n",
      "| CA_WAREHOUSE|             34|           123|        42|\n",
      "| CO_WAREHOUSE|            340|           180|         2|\n",
      "+-------------+---------------+--------------+----------+\n"
     ]
    }
   ],
   "source": [
    "dyf_dropNullfields.toDF().show()"
   ]
  },
  {
   "cell_type": "markdown",
   "id": "80d9b5c0-05aa-4a6b-9041-7426b31de40a",
   "metadata": {},
   "source": [
    "### [SplitFields](https://docs.aws.amazon.com/glue/latest/dg/aws-glue-api-crawler-pyspark-transforms-SplitFields.html)\n",
    "\n",
    "Splits a `DynamicFrame` into two new ones, by specified fields. The function takes the field names of the first DynamicFrame that we want to generate followed by the names of the two DynamicFrames:"
   ]
  },
  {
   "cell_type": "code",
   "execution_count": 61,
   "id": "7083ccd8-353e-4765-945a-07c2ef0b8617",
   "metadata": {
    "tags": [],
    "vscode": {
     "languageId": "python_glue_session"
    }
   },
   "outputs": [
    {
     "name": "stdout",
     "output_type": "stream",
     "text": [
      "\n"
     ]
    }
   ],
   "source": [
    "dyf_splitFields = SplitFields.apply(frame=dyf_dropNullfields,\n",
    "                                    paths=[\"`data.strawberry`\", \"`data.pineapple`\"],\n",
    "                                    name1=\"a\", name2=\"b\")"
   ]
  },
  {
   "cell_type": "code",
   "execution_count": 62,
   "id": "45b7a859-aeb8-4765-b09c-af269d3b89f5",
   "metadata": {
    "tags": [],
    "vscode": {
     "languageId": "python_glue_session"
    }
   },
   "outputs": [
    {
     "name": "stdout",
     "output_type": "stream",
     "text": [
      "+---------------+--------------+\n",
      "|data.strawberry|data.pineapple|\n",
      "+---------------+--------------+\n",
      "|            220|           560|\n",
      "|             34|           123|\n",
      "|            340|           180|\n",
      "+---------------+--------------+\n"
     ]
    }
   ],
   "source": [
    "dyf_retrieve_a = SelectFromCollection.apply(dyf_splitFields, \"a\")\n",
    "dyf_retrieve_a.toDF().show()"
   ]
  },
  {
   "cell_type": "code",
   "execution_count": 63,
   "id": "abab9695-4858-44d9-a85b-ee263816784f",
   "metadata": {
    "tags": [],
    "vscode": {
     "languageId": "python_glue_session"
    }
   },
   "outputs": [
    {
     "name": "stdout",
     "output_type": "stream",
     "text": [
      "+-------------+----------+\n",
      "|warehouse_loc|data.mango|\n",
      "+-------------+----------+\n",
      "| TX_WAREHOUSE|       350|\n",
      "| CA_WAREHOUSE|        42|\n",
      "| CO_WAREHOUSE|         2|\n",
      "+-------------+----------+\n"
     ]
    }
   ],
   "source": [
    "dyf_retrieve_b = SelectFromCollection.apply(dyf_splitFields, \"b\")\n",
    "dyf_retrieve_b.toDF().show()"
   ]
  },
  {
   "cell_type": "markdown",
   "id": "8bf23f88-3993-44b6-8baa-d59fe95b2899",
   "metadata": {},
   "source": [
    "### [SplitRows](https://docs.aws.amazon.com/glue/latest/dg/aws-glue-api-crawler-pyspark-transforms-SplitRows.html)\n",
    "\n",
    "Creates a `DynamicFrameCollection` that contains two `DynamicFrames`. One `DynamicFrame` contains only the specified rows to be split, and the other contains all remaining rows.<br/>\n",
    "`SplitRows` allows us to filter our dataset within a specific range of counts and split them into two DynamicFrames:"
   ]
  },
  {
   "cell_type": "code",
   "execution_count": 64,
   "id": "995f0f79-ce8f-4d48-956d-1c648cc23f06",
   "metadata": {
    "tags": [],
    "vscode": {
     "languageId": "python_glue_session"
    }
   },
   "outputs": [
    {
     "name": "stdout",
     "output_type": "stream",
     "text": [
      "\n"
     ]
    }
   ],
   "source": [
    "dyf_splitRows = SplitRows.apply(frame=dyf_dropNullfields,\n",
    "                               comparison_dict={\"`data.pineapple`\": {\n",
    "                                   \">\": \"100\", \n",
    "                                   \"<\": \"200\"}},\n",
    "                               name1='pa_200_less',\n",
    "                               name2='pa_200_more')"
   ]
  },
  {
   "cell_type": "code",
   "execution_count": 65,
   "id": "63e1a886-09c0-40f3-8024-94320f623143",
   "metadata": {
    "tags": [],
    "vscode": {
     "languageId": "python_glue_session"
    }
   },
   "outputs": [
    {
     "name": "stdout",
     "output_type": "stream",
     "text": [
      "+-------------+---------------+--------------+----------+\n",
      "|warehouse_loc|data.strawberry|data.pineapple|data.mango|\n",
      "+-------------+---------------+--------------+----------+\n",
      "| CA_WAREHOUSE|             34|           123|        42|\n",
      "| CO_WAREHOUSE|            340|           180|         2|\n",
      "+-------------+---------------+--------------+----------+\n"
     ]
    }
   ],
   "source": [
    "dyf_pa_200_less = SelectFromCollection.apply(dyf_splitRows, \"pa_200_less\")\n",
    "dyf_pa_200_less.toDF().show()"
   ]
  },
  {
   "cell_type": "code",
   "execution_count": 66,
   "id": "cb620288-5c86-45e7-9652-1b9d1da004b6",
   "metadata": {
    "tags": [],
    "vscode": {
     "languageId": "python_glue_session"
    }
   },
   "outputs": [
    {
     "name": "stdout",
     "output_type": "stream",
     "text": [
      "+-------------+---------------+--------------+----------+\n",
      "|warehouse_loc|data.strawberry|data.pineapple|data.mango|\n",
      "+-------------+---------------+--------------+----------+\n",
      "| TX_WAREHOUSE|            220|           560|       350|\n",
      "+-------------+---------------+--------------+----------+\n"
     ]
    }
   ],
   "source": [
    "dyf_pa_200_more = SelectFromCollection.apply(dyf_splitRows, \"pa_200_more\")\n",
    "dyf_pa_200_more.toDF().show()"
   ]
  },
  {
   "cell_type": "markdown",
   "id": "396f2429-5293-46a8-a3f1-bde5ff3ed352",
   "metadata": {},
   "source": [
    "### [Spigot](https://docs.aws.amazon.com/glue/latest/dg/aws-glue-api-crawler-pyspark-transforms-spigot.html)\n",
    "\n",
    "Writes sample records to a specified destination to help you verify the transformations performed by your AWS Glue job.<br/>\n",
    "`Spigot` allows you to write a sample dataset to a destination during transformation. For our use case, we write the top 10 records locally:"
   ]
  },
  {
   "cell_type": "code",
   "execution_count": 67,
   "id": "c8bec88a-5b99-4830-87f3-5b9a5eccb2f1",
   "metadata": {
    "tags": [],
    "vscode": {
     "languageId": "python_glue_session"
    }
   },
   "outputs": [
    {
     "name": "stdout",
     "output_type": "stream",
     "text": [
      "[{'defaultValue': None,\n",
      "  'description': 'spigot this DynamicFrame',\n",
      "  'name': 'frame',\n",
      "  'optional': False,\n",
      "  'type': 'DynamicFrame'},\n",
      " {'defaultValue': None,\n",
      "  'description': 'file path to write spigot',\n",
      "  'name': 'path',\n",
      "  'optional': False,\n",
      "  'type': 'string'},\n",
      " {'defaultValue': None,\n",
      "  'description': 'topk -> first k records, prob -> probability of picking any '\n",
      "                 'record',\n",
      "  'name': 'options',\n",
      "  'optional': True,\n",
      "  'type': 'Json'}]\n"
     ]
    }
   ],
   "source": [
    "import pprint\n",
    "\n",
    "pprint.pprint(Spigot.describeArgs())"
   ]
  },
  {
   "cell_type": "code",
   "execution_count": 68,
   "id": "34d3e39f-6aeb-44ca-b7fa-f80b0115c22b",
   "metadata": {
    "tags": [],
    "vscode": {
     "languageId": "python_glue_session"
    }
   },
   "outputs": [
    {
     "name": "stdout",
     "output_type": "stream",
     "text": [
      "\n"
     ]
    }
   ],
   "source": [
    "temp_dir = 's3://sagemaker-us-east-1-123456789012/glue/Spigot/'\n",
    "dyf_splitFields = Spigot.apply(dyf_pa_200_less, temp_dir, {'top10': 10})"
   ]
  },
  {
   "cell_type": "markdown",
   "id": "79bc03f6-d9e2-4b99-8f95-039c2a38427c",
   "metadata": {},
   "source": [
    "### [Write Dynamic Frame](https://docs.aws.amazon.com/glue/latest/dg/aws-glue-api-crawler-pyspark-extensions-dynamic-frame-writer.html)\n",
    "\n",
    "The `write_dynamic_frame` function writes a DynamicFrame using the specified connection and format. For our use case, we write locally (we use a `connection_type` of S3 with a POSIX path argument in `connection_options`, which allows writing to local storage):"
   ]
  },
  {
   "cell_type": "code",
   "execution_count": 69,
   "id": "cab639df-a811-4632-9855-8a1503c66888",
   "metadata": {
    "tags": [],
    "vscode": {
     "languageId": "python_glue_session"
    }
   },
   "outputs": [
    {
     "name": "stdout",
     "output_type": "stream",
     "text": [
      "<awsglue.dynamicframe.DynamicFrame object at 0x7fcb32fe7fd0>\n"
     ]
    }
   ],
   "source": [
    "glueContext.write_dynamic_frame.from_options(frame=dyf_splitFields,\n",
    "                                             connection_options={'path': 's3://sagemaker-us-east-1-123456789012/glue/GlueOutput/'},\n",
    "                                             connection_type='s3',\n",
    "                                             format='json')"
   ]
  },
  {
   "cell_type": "code",
   "execution_count": 3,
   "id": "5d73f283-61c8-4594-bc1d-8c495bd16d86",
   "metadata": {
    "tags": [],
    "vscode": {
     "languageId": "python_glue_session"
    }
   },
   "outputs": [
    {
     "name": "stdout",
     "output_type": "stream",
     "text": [
      "Stopping session: 8f8620a4-2a25-4f1a-a71c-11c7e398a189\n",
      "Stopped session.\n"
     ]
    }
   ],
   "source": [
    "%stop_session"
   ]
  },
  {
   "cell_type": "markdown",
   "id": "4df8c7e7-b99a-4c1a-8a35-1824c4aa94d2",
   "metadata": {},
   "source": [
    "## Reference\n",
    "\n",
    "* [Building an AWS Glue ETL pipeline locally without an AWS account (2020-09-21)](https://aws.amazon.com/blogs/big-data/building-an-aws-glue-etl-pipeline-locally-without-an-aws-account/)\n",
    "* [Program AWS Glue ETL scripts in PySpark](https://docs.aws.amazon.com/glue/latest/dg/aws-glue-programming-python.html)"
   ]
  }
 ],
 "metadata": {
  "availableInstances": [
   {
    "_defaultOrder": 0,
    "_isFastLaunch": true,
    "category": "General purpose",
    "gpuNum": 0,
    "hideHardwareSpecs": false,
    "memoryGiB": 4,
    "name": "ml.t3.medium",
    "vcpuNum": 2
   },
   {
    "_defaultOrder": 1,
    "_isFastLaunch": false,
    "category": "General purpose",
    "gpuNum": 0,
    "hideHardwareSpecs": false,
    "memoryGiB": 8,
    "name": "ml.t3.large",
    "vcpuNum": 2
   },
   {
    "_defaultOrder": 2,
    "_isFastLaunch": false,
    "category": "General purpose",
    "gpuNum": 0,
    "hideHardwareSpecs": false,
    "memoryGiB": 16,
    "name": "ml.t3.xlarge",
    "vcpuNum": 4
   },
   {
    "_defaultOrder": 3,
    "_isFastLaunch": false,
    "category": "General purpose",
    "gpuNum": 0,
    "hideHardwareSpecs": false,
    "memoryGiB": 32,
    "name": "ml.t3.2xlarge",
    "vcpuNum": 8
   },
   {
    "_defaultOrder": 4,
    "_isFastLaunch": true,
    "category": "General purpose",
    "gpuNum": 0,
    "hideHardwareSpecs": false,
    "memoryGiB": 8,
    "name": "ml.m5.large",
    "vcpuNum": 2
   },
   {
    "_defaultOrder": 5,
    "_isFastLaunch": false,
    "category": "General purpose",
    "gpuNum": 0,
    "hideHardwareSpecs": false,
    "memoryGiB": 16,
    "name": "ml.m5.xlarge",
    "vcpuNum": 4
   },
   {
    "_defaultOrder": 6,
    "_isFastLaunch": false,
    "category": "General purpose",
    "gpuNum": 0,
    "hideHardwareSpecs": false,
    "memoryGiB": 32,
    "name": "ml.m5.2xlarge",
    "vcpuNum": 8
   },
   {
    "_defaultOrder": 7,
    "_isFastLaunch": false,
    "category": "General purpose",
    "gpuNum": 0,
    "hideHardwareSpecs": false,
    "memoryGiB": 64,
    "name": "ml.m5.4xlarge",
    "vcpuNum": 16
   },
   {
    "_defaultOrder": 8,
    "_isFastLaunch": false,
    "category": "General purpose",
    "gpuNum": 0,
    "hideHardwareSpecs": false,
    "memoryGiB": 128,
    "name": "ml.m5.8xlarge",
    "vcpuNum": 32
   },
   {
    "_defaultOrder": 9,
    "_isFastLaunch": false,
    "category": "General purpose",
    "gpuNum": 0,
    "hideHardwareSpecs": false,
    "memoryGiB": 192,
    "name": "ml.m5.12xlarge",
    "vcpuNum": 48
   },
   {
    "_defaultOrder": 10,
    "_isFastLaunch": false,
    "category": "General purpose",
    "gpuNum": 0,
    "hideHardwareSpecs": false,
    "memoryGiB": 256,
    "name": "ml.m5.16xlarge",
    "vcpuNum": 64
   },
   {
    "_defaultOrder": 11,
    "_isFastLaunch": false,
    "category": "General purpose",
    "gpuNum": 0,
    "hideHardwareSpecs": false,
    "memoryGiB": 384,
    "name": "ml.m5.24xlarge",
    "vcpuNum": 96
   },
   {
    "_defaultOrder": 12,
    "_isFastLaunch": false,
    "category": "General purpose",
    "gpuNum": 0,
    "hideHardwareSpecs": false,
    "memoryGiB": 8,
    "name": "ml.m5d.large",
    "vcpuNum": 2
   },
   {
    "_defaultOrder": 13,
    "_isFastLaunch": false,
    "category": "General purpose",
    "gpuNum": 0,
    "hideHardwareSpecs": false,
    "memoryGiB": 16,
    "name": "ml.m5d.xlarge",
    "vcpuNum": 4
   },
   {
    "_defaultOrder": 14,
    "_isFastLaunch": false,
    "category": "General purpose",
    "gpuNum": 0,
    "hideHardwareSpecs": false,
    "memoryGiB": 32,
    "name": "ml.m5d.2xlarge",
    "vcpuNum": 8
   },
   {
    "_defaultOrder": 15,
    "_isFastLaunch": false,
    "category": "General purpose",
    "gpuNum": 0,
    "hideHardwareSpecs": false,
    "memoryGiB": 64,
    "name": "ml.m5d.4xlarge",
    "vcpuNum": 16
   },
   {
    "_defaultOrder": 16,
    "_isFastLaunch": false,
    "category": "General purpose",
    "gpuNum": 0,
    "hideHardwareSpecs": false,
    "memoryGiB": 128,
    "name": "ml.m5d.8xlarge",
    "vcpuNum": 32
   },
   {
    "_defaultOrder": 17,
    "_isFastLaunch": false,
    "category": "General purpose",
    "gpuNum": 0,
    "hideHardwareSpecs": false,
    "memoryGiB": 192,
    "name": "ml.m5d.12xlarge",
    "vcpuNum": 48
   },
   {
    "_defaultOrder": 18,
    "_isFastLaunch": false,
    "category": "General purpose",
    "gpuNum": 0,
    "hideHardwareSpecs": false,
    "memoryGiB": 256,
    "name": "ml.m5d.16xlarge",
    "vcpuNum": 64
   },
   {
    "_defaultOrder": 19,
    "_isFastLaunch": false,
    "category": "General purpose",
    "gpuNum": 0,
    "hideHardwareSpecs": false,
    "memoryGiB": 384,
    "name": "ml.m5d.24xlarge",
    "vcpuNum": 96
   },
   {
    "_defaultOrder": 20,
    "_isFastLaunch": false,
    "category": "General purpose",
    "gpuNum": 0,
    "hideHardwareSpecs": true,
    "memoryGiB": 0,
    "name": "ml.geospatial.interactive",
    "supportedImageNames": [
     "sagemaker-geospatial-v1-0"
    ],
    "vcpuNum": 0
   },
   {
    "_defaultOrder": 21,
    "_isFastLaunch": true,
    "category": "Compute optimized",
    "gpuNum": 0,
    "hideHardwareSpecs": false,
    "memoryGiB": 4,
    "name": "ml.c5.large",
    "vcpuNum": 2
   },
   {
    "_defaultOrder": 22,
    "_isFastLaunch": false,
    "category": "Compute optimized",
    "gpuNum": 0,
    "hideHardwareSpecs": false,
    "memoryGiB": 8,
    "name": "ml.c5.xlarge",
    "vcpuNum": 4
   },
   {
    "_defaultOrder": 23,
    "_isFastLaunch": false,
    "category": "Compute optimized",
    "gpuNum": 0,
    "hideHardwareSpecs": false,
    "memoryGiB": 16,
    "name": "ml.c5.2xlarge",
    "vcpuNum": 8
   },
   {
    "_defaultOrder": 24,
    "_isFastLaunch": false,
    "category": "Compute optimized",
    "gpuNum": 0,
    "hideHardwareSpecs": false,
    "memoryGiB": 32,
    "name": "ml.c5.4xlarge",
    "vcpuNum": 16
   },
   {
    "_defaultOrder": 25,
    "_isFastLaunch": false,
    "category": "Compute optimized",
    "gpuNum": 0,
    "hideHardwareSpecs": false,
    "memoryGiB": 72,
    "name": "ml.c5.9xlarge",
    "vcpuNum": 36
   },
   {
    "_defaultOrder": 26,
    "_isFastLaunch": false,
    "category": "Compute optimized",
    "gpuNum": 0,
    "hideHardwareSpecs": false,
    "memoryGiB": 96,
    "name": "ml.c5.12xlarge",
    "vcpuNum": 48
   },
   {
    "_defaultOrder": 27,
    "_isFastLaunch": false,
    "category": "Compute optimized",
    "gpuNum": 0,
    "hideHardwareSpecs": false,
    "memoryGiB": 144,
    "name": "ml.c5.18xlarge",
    "vcpuNum": 72
   },
   {
    "_defaultOrder": 28,
    "_isFastLaunch": false,
    "category": "Compute optimized",
    "gpuNum": 0,
    "hideHardwareSpecs": false,
    "memoryGiB": 192,
    "name": "ml.c5.24xlarge",
    "vcpuNum": 96
   },
   {
    "_defaultOrder": 29,
    "_isFastLaunch": true,
    "category": "Accelerated computing",
    "gpuNum": 1,
    "hideHardwareSpecs": false,
    "memoryGiB": 16,
    "name": "ml.g4dn.xlarge",
    "vcpuNum": 4
   },
   {
    "_defaultOrder": 30,
    "_isFastLaunch": false,
    "category": "Accelerated computing",
    "gpuNum": 1,
    "hideHardwareSpecs": false,
    "memoryGiB": 32,
    "name": "ml.g4dn.2xlarge",
    "vcpuNum": 8
   },
   {
    "_defaultOrder": 31,
    "_isFastLaunch": false,
    "category": "Accelerated computing",
    "gpuNum": 1,
    "hideHardwareSpecs": false,
    "memoryGiB": 64,
    "name": "ml.g4dn.4xlarge",
    "vcpuNum": 16
   },
   {
    "_defaultOrder": 32,
    "_isFastLaunch": false,
    "category": "Accelerated computing",
    "gpuNum": 1,
    "hideHardwareSpecs": false,
    "memoryGiB": 128,
    "name": "ml.g4dn.8xlarge",
    "vcpuNum": 32
   },
   {
    "_defaultOrder": 33,
    "_isFastLaunch": false,
    "category": "Accelerated computing",
    "gpuNum": 4,
    "hideHardwareSpecs": false,
    "memoryGiB": 192,
    "name": "ml.g4dn.12xlarge",
    "vcpuNum": 48
   },
   {
    "_defaultOrder": 34,
    "_isFastLaunch": false,
    "category": "Accelerated computing",
    "gpuNum": 1,
    "hideHardwareSpecs": false,
    "memoryGiB": 256,
    "name": "ml.g4dn.16xlarge",
    "vcpuNum": 64
   },
   {
    "_defaultOrder": 35,
    "_isFastLaunch": false,
    "category": "Accelerated computing",
    "gpuNum": 1,
    "hideHardwareSpecs": false,
    "memoryGiB": 61,
    "name": "ml.p3.2xlarge",
    "vcpuNum": 8
   },
   {
    "_defaultOrder": 36,
    "_isFastLaunch": false,
    "category": "Accelerated computing",
    "gpuNum": 4,
    "hideHardwareSpecs": false,
    "memoryGiB": 244,
    "name": "ml.p3.8xlarge",
    "vcpuNum": 32
   },
   {
    "_defaultOrder": 37,
    "_isFastLaunch": false,
    "category": "Accelerated computing",
    "gpuNum": 8,
    "hideHardwareSpecs": false,
    "memoryGiB": 488,
    "name": "ml.p3.16xlarge",
    "vcpuNum": 64
   },
   {
    "_defaultOrder": 38,
    "_isFastLaunch": false,
    "category": "Accelerated computing",
    "gpuNum": 8,
    "hideHardwareSpecs": false,
    "memoryGiB": 768,
    "name": "ml.p3dn.24xlarge",
    "vcpuNum": 96
   },
   {
    "_defaultOrder": 39,
    "_isFastLaunch": false,
    "category": "Memory Optimized",
    "gpuNum": 0,
    "hideHardwareSpecs": false,
    "memoryGiB": 16,
    "name": "ml.r5.large",
    "vcpuNum": 2
   },
   {
    "_defaultOrder": 40,
    "_isFastLaunch": false,
    "category": "Memory Optimized",
    "gpuNum": 0,
    "hideHardwareSpecs": false,
    "memoryGiB": 32,
    "name": "ml.r5.xlarge",
    "vcpuNum": 4
   },
   {
    "_defaultOrder": 41,
    "_isFastLaunch": false,
    "category": "Memory Optimized",
    "gpuNum": 0,
    "hideHardwareSpecs": false,
    "memoryGiB": 64,
    "name": "ml.r5.2xlarge",
    "vcpuNum": 8
   },
   {
    "_defaultOrder": 42,
    "_isFastLaunch": false,
    "category": "Memory Optimized",
    "gpuNum": 0,
    "hideHardwareSpecs": false,
    "memoryGiB": 128,
    "name": "ml.r5.4xlarge",
    "vcpuNum": 16
   },
   {
    "_defaultOrder": 43,
    "_isFastLaunch": false,
    "category": "Memory Optimized",
    "gpuNum": 0,
    "hideHardwareSpecs": false,
    "memoryGiB": 256,
    "name": "ml.r5.8xlarge",
    "vcpuNum": 32
   },
   {
    "_defaultOrder": 44,
    "_isFastLaunch": false,
    "category": "Memory Optimized",
    "gpuNum": 0,
    "hideHardwareSpecs": false,
    "memoryGiB": 384,
    "name": "ml.r5.12xlarge",
    "vcpuNum": 48
   },
   {
    "_defaultOrder": 45,
    "_isFastLaunch": false,
    "category": "Memory Optimized",
    "gpuNum": 0,
    "hideHardwareSpecs": false,
    "memoryGiB": 512,
    "name": "ml.r5.16xlarge",
    "vcpuNum": 64
   },
   {
    "_defaultOrder": 46,
    "_isFastLaunch": false,
    "category": "Memory Optimized",
    "gpuNum": 0,
    "hideHardwareSpecs": false,
    "memoryGiB": 768,
    "name": "ml.r5.24xlarge",
    "vcpuNum": 96
   },
   {
    "_defaultOrder": 47,
    "_isFastLaunch": false,
    "category": "Accelerated computing",
    "gpuNum": 1,
    "hideHardwareSpecs": false,
    "memoryGiB": 16,
    "name": "ml.g5.xlarge",
    "vcpuNum": 4
   },
   {
    "_defaultOrder": 48,
    "_isFastLaunch": false,
    "category": "Accelerated computing",
    "gpuNum": 1,
    "hideHardwareSpecs": false,
    "memoryGiB": 32,
    "name": "ml.g5.2xlarge",
    "vcpuNum": 8
   },
   {
    "_defaultOrder": 49,
    "_isFastLaunch": false,
    "category": "Accelerated computing",
    "gpuNum": 1,
    "hideHardwareSpecs": false,
    "memoryGiB": 64,
    "name": "ml.g5.4xlarge",
    "vcpuNum": 16
   },
   {
    "_defaultOrder": 50,
    "_isFastLaunch": false,
    "category": "Accelerated computing",
    "gpuNum": 1,
    "hideHardwareSpecs": false,
    "memoryGiB": 128,
    "name": "ml.g5.8xlarge",
    "vcpuNum": 32
   },
   {
    "_defaultOrder": 51,
    "_isFastLaunch": false,
    "category": "Accelerated computing",
    "gpuNum": 1,
    "hideHardwareSpecs": false,
    "memoryGiB": 256,
    "name": "ml.g5.16xlarge",
    "vcpuNum": 64
   },
   {
    "_defaultOrder": 52,
    "_isFastLaunch": false,
    "category": "Accelerated computing",
    "gpuNum": 4,
    "hideHardwareSpecs": false,
    "memoryGiB": 192,
    "name": "ml.g5.12xlarge",
    "vcpuNum": 48
   },
   {
    "_defaultOrder": 53,
    "_isFastLaunch": false,
    "category": "Accelerated computing",
    "gpuNum": 4,
    "hideHardwareSpecs": false,
    "memoryGiB": 384,
    "name": "ml.g5.24xlarge",
    "vcpuNum": 96
   },
   {
    "_defaultOrder": 54,
    "_isFastLaunch": false,
    "category": "Accelerated computing",
    "gpuNum": 8,
    "hideHardwareSpecs": false,
    "memoryGiB": 768,
    "name": "ml.g5.48xlarge",
    "vcpuNum": 192
   },
   {
    "_defaultOrder": 55,
    "_isFastLaunch": false,
    "category": "Accelerated computing",
    "gpuNum": 8,
    "hideHardwareSpecs": false,
    "memoryGiB": 1152,
    "name": "ml.p4d.24xlarge",
    "vcpuNum": 96
   },
   {
    "_defaultOrder": 56,
    "_isFastLaunch": false,
    "category": "Accelerated computing",
    "gpuNum": 8,
    "hideHardwareSpecs": false,
    "memoryGiB": 1152,
    "name": "ml.p4de.24xlarge",
    "vcpuNum": 96
   }
  ],
  "instance_type": "ml.t3.medium",
  "kernelspec": {
   "display_name": "Glue Python [PySpark and Ray] (SparkAnalytics 2.0)",
   "language": "python",
   "name": "conda-env-sm_glue_is-glue_pyspark__SAGEMAKER_INTERNAL__arn:aws:sagemaker:us-east-1:081325390199:image/sagemaker-sparkanalytics-310-v1"
  },
  "language_info": {
   "codemirror_mode": {
    "name": "python",
    "version": 3
   },
   "file_extension": ".py",
   "mimetype": "text/x-python",
   "name": "Python_Glue_Session",
   "pygments_lexer": "python3"
  }
 },
 "nbformat": 4,
 "nbformat_minor": 5
}
